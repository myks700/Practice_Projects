{
 "cells": [
  {
   "cell_type": "markdown",
   "id": "0671d7a2",
   "metadata": {
    "papermill": {
     "duration": 0.01645,
     "end_time": "2023-01-04T15:20:59.583556",
     "exception": false,
     "start_time": "2023-01-04T15:20:59.567106",
     "status": "completed"
    },
    "tags": []
   },
   "source": [
    "## 1  - Data Exploration"
   ]
  },
  {
   "cell_type": "code",
   "execution_count": 304,
   "id": "22975ade",
   "metadata": {
    "_kg_hide-input": true,
    "papermill": {
     "duration": 7.090027,
     "end_time": "2023-01-04T15:21:06.689039",
     "exception": false,
     "start_time": "2023-01-04T15:20:59.599012",
     "status": "completed"
    },
    "tags": []
   },
   "outputs": [],
   "source": [
    "# imports \n",
    "import numpy as np\n",
    "import pandas as pd \n",
    "import os\n",
    "import random\n",
    "\n",
    "# visualisation'\n",
    "import matplotlib.pyplot as plt\n",
    "import seaborn as sns \n",
    "sns.set_style(style = 'darkgrid')\n",
    "sns.set_palette('viridis')\n",
    "\n",
    "%matplotlib inline\n",
    "\n",
    "from sklearn.ensemble import RandomForestClassifier\n",
    "from sklearn.preprocessing import OneHotEncoder, LabelEncoder, StandardScaler\n",
    "from sklearn.metrics import roc_curve, auc\n",
    "from sklearn.model_selection import StratifiedKFold\n",
    "\n",
    "import warnings\n",
    "warnings.filterwarnings('ignore')"
   ]
  },
  {
   "cell_type": "markdown",
   "id": "1dec7fcb",
   "metadata": {
    "papermill": {
     "duration": 0.016171,
     "end_time": "2023-01-04T15:21:06.721172",
     "exception": false,
     "start_time": "2023-01-04T15:21:06.705001",
     "status": "completed"
    },
    "tags": []
   },
   "source": [
    "## Reproducibility"
   ]
  },
  {
   "cell_type": "code",
   "execution_count": null,
   "id": "438dd1fb",
   "metadata": {
    "_kg_hide-input": true,
    "papermill": {
     "duration": 0.025976,
     "end_time": "2023-01-04T15:21:06.763202",
     "exception": false,
     "start_time": "2023-01-04T15:21:06.737226",
     "status": "completed"
    },
    "tags": []
   },
   "outputs": [],
   "source": []
  },
  {
   "cell_type": "code",
   "execution_count": 305,
   "id": "db39550d",
   "metadata": {
    "_kg_hide-input": true,
    "papermill": {
     "duration": 0.071435,
     "end_time": "2023-01-04T15:21:06.851104",
     "exception": false,
     "start_time": "2023-01-04T15:21:06.779669",
     "status": "completed"
    },
    "tags": []
   },
   "outputs": [
    {
     "data": {
      "text/html": [
       "<div>\n",
       "<style scoped>\n",
       "    .dataframe tbody tr th:only-of-type {\n",
       "        vertical-align: middle;\n",
       "    }\n",
       "\n",
       "    .dataframe tbody tr th {\n",
       "        vertical-align: top;\n",
       "    }\n",
       "\n",
       "    .dataframe thead th {\n",
       "        text-align: right;\n",
       "    }\n",
       "</style>\n",
       "<table border=\"1\" class=\"dataframe\">\n",
       "  <thead>\n",
       "    <tr style=\"text-align: right;\">\n",
       "      <th></th>\n",
       "      <th>PassengerId</th>\n",
       "      <th>Survived</th>\n",
       "      <th>Pclass</th>\n",
       "      <th>Name</th>\n",
       "      <th>Sex</th>\n",
       "      <th>Age</th>\n",
       "      <th>SibSp</th>\n",
       "      <th>Parch</th>\n",
       "      <th>Ticket</th>\n",
       "      <th>Fare</th>\n",
       "      <th>Cabin</th>\n",
       "      <th>Embarked</th>\n",
       "    </tr>\n",
       "  </thead>\n",
       "  <tbody>\n",
       "    <tr>\n",
       "      <th>0</th>\n",
       "      <td>1</td>\n",
       "      <td>0</td>\n",
       "      <td>3</td>\n",
       "      <td>Braund, Mr. Owen Harris</td>\n",
       "      <td>male</td>\n",
       "      <td>22.0</td>\n",
       "      <td>1</td>\n",
       "      <td>0</td>\n",
       "      <td>A/5 21171</td>\n",
       "      <td>7.2500</td>\n",
       "      <td>NaN</td>\n",
       "      <td>S</td>\n",
       "    </tr>\n",
       "    <tr>\n",
       "      <th>1</th>\n",
       "      <td>2</td>\n",
       "      <td>1</td>\n",
       "      <td>1</td>\n",
       "      <td>Cumings, Mrs. John Bradley (Florence Briggs Th...</td>\n",
       "      <td>female</td>\n",
       "      <td>38.0</td>\n",
       "      <td>1</td>\n",
       "      <td>0</td>\n",
       "      <td>PC 17599</td>\n",
       "      <td>71.2833</td>\n",
       "      <td>C85</td>\n",
       "      <td>C</td>\n",
       "    </tr>\n",
       "    <tr>\n",
       "      <th>2</th>\n",
       "      <td>3</td>\n",
       "      <td>1</td>\n",
       "      <td>3</td>\n",
       "      <td>Heikkinen, Miss. Laina</td>\n",
       "      <td>female</td>\n",
       "      <td>26.0</td>\n",
       "      <td>0</td>\n",
       "      <td>0</td>\n",
       "      <td>STON/O2. 3101282</td>\n",
       "      <td>7.9250</td>\n",
       "      <td>NaN</td>\n",
       "      <td>S</td>\n",
       "    </tr>\n",
       "    <tr>\n",
       "      <th>3</th>\n",
       "      <td>4</td>\n",
       "      <td>1</td>\n",
       "      <td>1</td>\n",
       "      <td>Futrelle, Mrs. Jacques Heath (Lily May Peel)</td>\n",
       "      <td>female</td>\n",
       "      <td>35.0</td>\n",
       "      <td>1</td>\n",
       "      <td>0</td>\n",
       "      <td>113803</td>\n",
       "      <td>53.1000</td>\n",
       "      <td>C123</td>\n",
       "      <td>S</td>\n",
       "    </tr>\n",
       "    <tr>\n",
       "      <th>4</th>\n",
       "      <td>5</td>\n",
       "      <td>0</td>\n",
       "      <td>3</td>\n",
       "      <td>Allen, Mr. William Henry</td>\n",
       "      <td>male</td>\n",
       "      <td>35.0</td>\n",
       "      <td>0</td>\n",
       "      <td>0</td>\n",
       "      <td>373450</td>\n",
       "      <td>8.0500</td>\n",
       "      <td>NaN</td>\n",
       "      <td>S</td>\n",
       "    </tr>\n",
       "  </tbody>\n",
       "</table>\n",
       "</div>"
      ],
      "text/plain": [
       "   PassengerId  Survived  Pclass  \\\n",
       "0            1         0       3   \n",
       "1            2         1       1   \n",
       "2            3         1       3   \n",
       "3            4         1       1   \n",
       "4            5         0       3   \n",
       "\n",
       "                                                Name     Sex   Age  SibSp  \\\n",
       "0                            Braund, Mr. Owen Harris    male  22.0      1   \n",
       "1  Cumings, Mrs. John Bradley (Florence Briggs Th...  female  38.0      1   \n",
       "2                             Heikkinen, Miss. Laina  female  26.0      0   \n",
       "3       Futrelle, Mrs. Jacques Heath (Lily May Peel)  female  35.0      1   \n",
       "4                           Allen, Mr. William Henry    male  35.0      0   \n",
       "\n",
       "   Parch            Ticket     Fare Cabin Embarked  \n",
       "0      0         A/5 21171   7.2500   NaN        S  \n",
       "1      0          PC 17599  71.2833   C85        C  \n",
       "2      0  STON/O2. 3101282   7.9250   NaN        S  \n",
       "3      0            113803  53.1000  C123        S  \n",
       "4      0            373450   8.0500   NaN        S  "
      ]
     },
     "execution_count": 305,
     "metadata": {},
     "output_type": "execute_result"
    }
   ],
   "source": [
    "train = pd.read_csv('train.csv')\n",
    "train.head()"
   ]
  },
  {
   "cell_type": "code",
   "execution_count": null,
   "id": "baeb9c14",
   "metadata": {
    "_kg_hide-input": true,
    "papermill": {
     "duration": 0.040656,
     "end_time": "2023-01-04T15:21:06.908487",
     "exception": false,
     "start_time": "2023-01-04T15:21:06.867831",
     "status": "completed"
    },
    "tags": []
   },
   "outputs": [],
   "source": []
  },
  {
   "cell_type": "code",
   "execution_count": 306,
   "id": "de750fcf",
   "metadata": {
    "_kg_hide-input": true,
    "papermill": {
     "duration": 0.032138,
     "end_time": "2023-01-04T15:21:06.957868",
     "exception": false,
     "start_time": "2023-01-04T15:21:06.925730",
     "status": "completed"
    },
    "tags": []
   },
   "outputs": [
    {
     "name": "stdout",
     "output_type": "stream",
     "text": [
      "---Train data---\n",
      "Data Shape: 891 rows X 12 columns\n",
      "Total no. of passengers: 891\n",
      "Number of unique Passenger Classes: 3\n",
      "Number of unique Fare amounts: 248\n",
      "\n"
     ]
    }
   ],
   "source": [
    "print('---Train data---')\n",
    "print('Data Shape: {:,d} rows X {:d} columns'.format(train.shape[0], train.shape[1]))\n",
    "print('Total no. of passengers: {:,d}'.format(len(train)))\n",
    "# print('Number of unique tickets: {:d}'.format(train['Ticket'].nunique()))\n",
    "print('Number of unique Passenger Classes: {:,d}'.format(train['Pclass'].nunique()))\n",
    "print('Number of unique Fare amounts: {:,d}'.format(train['Fare'].nunique()))\n",
    "print()"
   ]
  },
  {
   "cell_type": "code",
   "execution_count": 307,
   "id": "a135da21-95fb-40e0-b539-3681fd8a90fe",
   "metadata": {},
   "outputs": [
    {
     "name": "stdout",
     "output_type": "stream",
     "text": [
      "Unique Values in PassengerId column: 891\n",
      "Unique Values in Survived column: 2\n",
      "Unique Values in Pclass column: 3\n",
      "Unique Values in Name column: 891\n",
      "Unique Values in Sex column: 2\n",
      "Unique Values in Age column: 89\n",
      "Unique Values in SibSp column: 7\n",
      "Unique Values in Parch column: 7\n",
      "Unique Values in Ticket column: 681\n",
      "Unique Values in Fare column: 248\n",
      "Unique Values in Cabin column: 148\n",
      "Unique Values in Embarked column: 4\n"
     ]
    }
   ],
   "source": [
    "for i in train.columns:\n",
    "    print('Unique Values in ' + i + ' column: ' + str(len(train[i].unique())))"
   ]
  },
  {
   "cell_type": "code",
   "execution_count": null,
   "id": "2e4aa53d-b0e4-4f65-a17e-356b9f27b89b",
   "metadata": {},
   "outputs": [],
   "source": []
  },
  {
   "cell_type": "markdown",
   "id": "481ecda0",
   "metadata": {
    "papermill": {
     "duration": 0.015977,
     "end_time": "2023-01-04T15:21:06.990533",
     "exception": false,
     "start_time": "2023-01-04T15:21:06.974556",
     "status": "completed"
    },
    "tags": []
   },
   "source": [
    "## 1.1 Feature Exploration\n",
    "\n",
    "Categorical and Continuos Features"
   ]
  },
  {
   "cell_type": "code",
   "execution_count": 308,
   "id": "75a4f377",
   "metadata": {
    "_kg_hide-input": true,
    "papermill": {
     "duration": 1.800808,
     "end_time": "2023-01-04T15:21:08.807757",
     "exception": false,
     "start_time": "2023-01-04T15:21:07.006949",
     "status": "completed"
    },
    "tags": []
   },
   "outputs": [
    {
     "data": {
      "image/png": "[encoded data removed]",
      "text/plain": [
       "<Figure size 1080x1800 with 8 Axes>"
      ]
     },
     "metadata": {
      "needs_background": "light"
     },
     "output_type": "display_data"
    }
   ],
   "source": [
    "fig, axs = plt.subplots(nrows = 4, ncols = 2, figsize =(15,25))\n",
    "\n",
    "train_copy = train.copy()\n",
    "features = ['Survived', 'Pclass', 'Sex', 'Age', 'SibSp', 'Parch', 'Fare', 'Embarked']\n",
    "axs = axs.flatten()\n",
    "\n",
    "for i, feature in enumerate(features):\n",
    "    _ = sns.histplot(train_copy, x=\"{}\".format(feature), ax=axs[i])\n",
    "    _ = axs[i].set_title(\"{} Distribution\".format(feature))\n",
    "    _ = axs[i].set_ylabel(\"\")\n",
    "    _ = axs[i].set_xlabel(\"\")"
   ]
  },
  {
   "cell_type": "markdown",
   "id": "890cc14b",
   "metadata": {
    "papermill": {
     "duration": 0.016521,
     "end_time": "2023-01-04T15:21:08.841229",
     "exception": false,
     "start_time": "2023-01-04T15:21:08.824708",
     "status": "completed"
    },
    "tags": []
   },
   "source": [
    "## 1.2 Spearman Correlation"
   ]
  },
  {
   "cell_type": "code",
   "execution_count": 309,
   "id": "823f0988",
   "metadata": {
    "_kg_hide-input": true,
    "papermill": {
     "duration": 0.338202,
     "end_time": "2023-01-04T15:21:09.196786",
     "exception": false,
     "start_time": "2023-01-04T15:21:08.858584",
     "status": "completed"
    },
    "tags": []
   },
   "outputs": [
    {
     "data": {
      "text/plain": [
       "<AxesSubplot:>"
      ]
     },
     "execution_count": 309,
     "metadata": {},
     "output_type": "execute_result"
    },
    {
     "data": {
      "image/png": "[encoded data removed]",
      "text/plain": [
       "<Figure size 864x864 with 2 Axes>"
      ]
     },
     "metadata": {
      "needs_background": "light"
     },
     "output_type": "display_data"
    }
   ],
   "source": [
    "plt.figure(figsize = (12,12))\n",
    "features = ['PassengerId', 'Pclass', 'Name', 'Sex', 'Age', 'SibSp',\n",
    "           'Parch', 'Ticket', 'Fare', 'Cabin', 'Embarked', 'Survived']\n",
    "\n",
    "corr_matrix = train[features].corr('spearman')\n",
    "sns.heatmap(corr_matrix, \n",
    "            annot = True, \n",
    "            cmap = 'flare', \n",
    "            mask = np.triu(np.ones_like(corr_matrix, dtype = bool)),  \n",
    "            center = 0,\n",
    "            square = True, \n",
    "            linewidths = 0.1 )"
   ]
  },
  {
   "cell_type": "markdown",
   "id": "7832e29e",
   "metadata": {
    "papermill": {
     "duration": 0.017076,
     "end_time": "2023-01-04T15:21:09.231499",
     "exception": false,
     "start_time": "2023-01-04T15:21:09.214423",
     "status": "completed"
    },
    "tags": []
   },
   "source": [
    "## 2 - Missing Data"
   ]
  },
  {
   "cell_type": "code",
   "execution_count": 310,
   "id": "caf358b8",
   "metadata": {
    "_kg_hide-input": true,
    "papermill": {
     "duration": 0.032085,
     "end_time": "2023-01-04T15:21:09.280983",
     "exception": false,
     "start_time": "2023-01-04T15:21:09.248898",
     "status": "completed"
    },
    "tags": []
   },
   "outputs": [
    {
     "name": "stdout",
     "output_type": "stream",
     "text": [
      "Percentage of missing data per feature in the train set:\n"
     ]
    },
    {
     "data": {
      "text/plain": [
       "PassengerId     0.000000\n",
       "Survived        0.000000\n",
       "Pclass          0.000000\n",
       "Name            0.000000\n",
       "Sex             0.000000\n",
       "Age            19.865320\n",
       "SibSp           0.000000\n",
       "Parch           0.000000\n",
       "Ticket          0.000000\n",
       "Fare            0.000000\n",
       "Cabin          77.104377\n",
       "Embarked        0.224467\n",
       "dtype: float64"
      ]
     },
     "execution_count": 310,
     "metadata": {},
     "output_type": "execute_result"
    }
   ],
   "source": [
    "print('Percentage of missing data per feature in the train set:')\n",
    "100 * train.isnull().sum() / len(train)"
   ]
  },
  {
   "cell_type": "code",
   "execution_count": null,
   "id": "043abbab",
   "metadata": {
    "_kg_hide-input": true,
    "papermill": {
     "duration": 0.031853,
     "end_time": "2023-01-04T15:21:09.330199",
     "exception": false,
     "start_time": "2023-01-04T15:21:09.298346",
     "status": "completed"
    },
    "tags": []
   },
   "outputs": [],
   "source": []
  },
  {
   "cell_type": "markdown",
   "id": "1a68f077",
   "metadata": {
    "papermill": {
     "duration": 0.017973,
     "end_time": "2023-01-04T15:21:09.365899",
     "exception": false,
     "start_time": "2023-01-04T15:21:09.347926",
     "status": "completed"
    },
    "tags": []
   },
   "source": [
    "## 2.1 Age (Train)"
   ]
  },
  {
   "cell_type": "code",
   "execution_count": 311,
   "id": "eef46022",
   "metadata": {
    "_kg_hide-input": true,
    "papermill": {
     "duration": 0.100356,
     "end_time": "2023-01-04T15:21:09.483912",
     "exception": false,
     "start_time": "2023-01-04T15:21:09.383556",
     "status": "completed"
    },
    "tags": []
   },
   "outputs": [
    {
     "data": {
      "text/html": [
       "<style type=\"text/css\">\n",
       "#T_2b892_row0_col1 {\n",
       "  width: 10em;\n",
       "  height: 80%;\n",
       "}\n",
       "#T_2b892_row0_col2 {\n",
       "  background-color: #fff5f0;\n",
       "  color: #000000;\n",
       "}\n",
       "#T_2b892_row0_col5 {\n",
       "  background-color: #3b4cc0;\n",
       "  color: #f1f1f1;\n",
       "}\n",
       "</style>\n",
       "<table id=\"T_2b892_\">\n",
       "  <thead>\n",
       "    <tr>\n",
       "      <th class=\"blank level0\" >&nbsp;</th>\n",
       "      <th class=\"col_heading level0 col0\" >count</th>\n",
       "      <th class=\"col_heading level0 col1\" >mean</th>\n",
       "      <th class=\"col_heading level0 col2\" >std</th>\n",
       "      <th class=\"col_heading level0 col3\" >min</th>\n",
       "      <th class=\"col_heading level0 col4\" >25%</th>\n",
       "      <th class=\"col_heading level0 col5\" >50%</th>\n",
       "      <th class=\"col_heading level0 col6\" >75%</th>\n",
       "      <th class=\"col_heading level0 col7\" >max</th>\n",
       "    </tr>\n",
       "  </thead>\n",
       "  <tbody>\n",
       "    <tr>\n",
       "      <th id=\"T_2b892_level0_row0\" class=\"row_heading level0 row0\" >Age</th>\n",
       "      <td id=\"T_2b892_row0_col0\" class=\"data row0 col0\" >714.000000</td>\n",
       "      <td id=\"T_2b892_row0_col1\" class=\"data row0 col1\" >29.699118</td>\n",
       "      <td id=\"T_2b892_row0_col2\" class=\"data row0 col2\" >14.526497</td>\n",
       "      <td id=\"T_2b892_row0_col3\" class=\"data row0 col3\" >0.420000</td>\n",
       "      <td id=\"T_2b892_row0_col4\" class=\"data row0 col4\" >20.125000</td>\n",
       "      <td id=\"T_2b892_row0_col5\" class=\"data row0 col5\" >28.000000</td>\n",
       "      <td id=\"T_2b892_row0_col6\" class=\"data row0 col6\" >38.000000</td>\n",
       "      <td id=\"T_2b892_row0_col7\" class=\"data row0 col7\" >80.000000</td>\n",
       "    </tr>\n",
       "  </tbody>\n",
       "</table>\n"
      ],
      "text/plain": [
       "<pandas.io.formats.style.Styler at 0x1389dcab580>"
      ]
     },
     "execution_count": 311,
     "metadata": {},
     "output_type": "execute_result"
    }
   ],
   "source": [
    "features = [\"Age\"]\n",
    "train[features].describe().T.style.bar(\n",
    "    subset=['mean'], color='#7BCC70')\\\n",
    "    .background_gradient(subset=['std'], cmap='Reds')\\\n",
    "    .background_gradient(subset=['50%'], cmap='coolwarm')"
   ]
  },
  {
   "cell_type": "code",
   "execution_count": 312,
   "id": "893c5898",
   "metadata": {
    "_kg_hide-input": true,
    "papermill": {
     "duration": 0.31889,
     "end_time": "2023-01-04T15:21:09.821222",
     "exception": false,
     "start_time": "2023-01-04T15:21:09.502332",
     "status": "completed"
    },
    "tags": []
   },
   "outputs": [
    {
     "data": {
      "text/plain": [
       "<AxesSubplot:xlabel='Age', ylabel='Count'>"
      ]
     },
     "execution_count": 312,
     "metadata": {},
     "output_type": "execute_result"
    },
    {
     "data": {
      "image/png": "[encoded data removed]",
      "text/plain": [
       "<Figure size 1080x576 with 1 Axes>"
      ]
     },
     "metadata": {
      "needs_background": "light"
     },
     "output_type": "display_data"
    }
   ],
   "source": [
    "plt.figure(figsize = (15, 8))\n",
    "sns.histplot(x = 'Age', data = train, palette = 'flare', bins = 40)"
   ]
  },
  {
   "cell_type": "code",
   "execution_count": 313,
   "id": "0782e822",
   "metadata": {
    "_kg_hide-input": true,
    "papermill": {
     "duration": 0.049674,
     "end_time": "2023-01-04T15:21:09.889047",
     "exception": false,
     "start_time": "2023-01-04T15:21:09.839373",
     "status": "completed"
    },
    "tags": []
   },
   "outputs": [
    {
     "name": "stdout",
     "output_type": "stream",
     "text": [
      "Age grouped by Pclass:\n"
     ]
    },
    {
     "data": {
      "text/html": [
       "<style type=\"text/css\">\n",
       "#T_404f5_row0_col1 {\n",
       "  width: 10em;\n",
       "  height: 80%;\n",
       "  background: linear-gradient(90deg,#7BCC70 100.0%, transparent 100.0%);\n",
       "}\n",
       "#T_404f5_row0_col2, #T_404f5_row0_col5 {\n",
       "  background-color: #4b2362;\n",
       "  color: #f1f1f1;\n",
       "}\n",
       "#T_404f5_row1_col1 {\n",
       "  width: 10em;\n",
       "  height: 80%;\n",
       "  background: linear-gradient(90deg,#7BCC70 36.2%, transparent 36.2%);\n",
       "}\n",
       "#T_404f5_row1_col2 {\n",
       "  background-color: #9d3670;\n",
       "  color: #f1f1f1;\n",
       "}\n",
       "#T_404f5_row1_col5 {\n",
       "  background-color: #d8525e;\n",
       "  color: #f1f1f1;\n",
       "}\n",
       "#T_404f5_row2_col1 {\n",
       "  width: 10em;\n",
       "  height: 80%;\n",
       "}\n",
       "#T_404f5_row2_col2, #T_404f5_row2_col5 {\n",
       "  background-color: #edb081;\n",
       "  color: #000000;\n",
       "}\n",
       "</style>\n",
       "<table id=\"T_404f5_\">\n",
       "  <thead>\n",
       "    <tr>\n",
       "      <th class=\"blank level0\" >&nbsp;</th>\n",
       "      <th class=\"col_heading level0 col0\" >count</th>\n",
       "      <th class=\"col_heading level0 col1\" >mean</th>\n",
       "      <th class=\"col_heading level0 col2\" >std</th>\n",
       "      <th class=\"col_heading level0 col3\" >min</th>\n",
       "      <th class=\"col_heading level0 col4\" >25%</th>\n",
       "      <th class=\"col_heading level0 col5\" >50%</th>\n",
       "      <th class=\"col_heading level0 col6\" >75%</th>\n",
       "      <th class=\"col_heading level0 col7\" >max</th>\n",
       "    </tr>\n",
       "    <tr>\n",
       "      <th class=\"index_name level0\" >Pclass</th>\n",
       "      <th class=\"blank col0\" >&nbsp;</th>\n",
       "      <th class=\"blank col1\" >&nbsp;</th>\n",
       "      <th class=\"blank col2\" >&nbsp;</th>\n",
       "      <th class=\"blank col3\" >&nbsp;</th>\n",
       "      <th class=\"blank col4\" >&nbsp;</th>\n",
       "      <th class=\"blank col5\" >&nbsp;</th>\n",
       "      <th class=\"blank col6\" >&nbsp;</th>\n",
       "      <th class=\"blank col7\" >&nbsp;</th>\n",
       "    </tr>\n",
       "  </thead>\n",
       "  <tbody>\n",
       "    <tr>\n",
       "      <th id=\"T_404f5_level0_row0\" class=\"row_heading level0 row0\" >1</th>\n",
       "      <td id=\"T_404f5_row0_col0\" class=\"data row0 col0\" >186.000000</td>\n",
       "      <td id=\"T_404f5_row0_col1\" class=\"data row0 col1\" >38.233441</td>\n",
       "      <td id=\"T_404f5_row0_col2\" class=\"data row0 col2\" >14.802856</td>\n",
       "      <td id=\"T_404f5_row0_col3\" class=\"data row0 col3\" >0.920000</td>\n",
       "      <td id=\"T_404f5_row0_col4\" class=\"data row0 col4\" >27.000000</td>\n",
       "      <td id=\"T_404f5_row0_col5\" class=\"data row0 col5\" >37.000000</td>\n",
       "      <td id=\"T_404f5_row0_col6\" class=\"data row0 col6\" >49.000000</td>\n",
       "      <td id=\"T_404f5_row0_col7\" class=\"data row0 col7\" >80.000000</td>\n",
       "    </tr>\n",
       "    <tr>\n",
       "      <th id=\"T_404f5_level0_row1\" class=\"row_heading level0 row1\" >2</th>\n",
       "      <td id=\"T_404f5_row1_col0\" class=\"data row1 col0\" >173.000000</td>\n",
       "      <td id=\"T_404f5_row1_col1\" class=\"data row1 col1\" >29.877630</td>\n",
       "      <td id=\"T_404f5_row1_col2\" class=\"data row1 col2\" >14.001077</td>\n",
       "      <td id=\"T_404f5_row1_col3\" class=\"data row1 col3\" >0.670000</td>\n",
       "      <td id=\"T_404f5_row1_col4\" class=\"data row1 col4\" >23.000000</td>\n",
       "      <td id=\"T_404f5_row1_col5\" class=\"data row1 col5\" >29.000000</td>\n",
       "      <td id=\"T_404f5_row1_col6\" class=\"data row1 col6\" >36.000000</td>\n",
       "      <td id=\"T_404f5_row1_col7\" class=\"data row1 col7\" >70.000000</td>\n",
       "    </tr>\n",
       "    <tr>\n",
       "      <th id=\"T_404f5_level0_row2\" class=\"row_heading level0 row2\" >3</th>\n",
       "      <td id=\"T_404f5_row2_col0\" class=\"data row2 col0\" >355.000000</td>\n",
       "      <td id=\"T_404f5_row2_col1\" class=\"data row2 col1\" >25.140620</td>\n",
       "      <td id=\"T_404f5_row2_col2\" class=\"data row2 col2\" >12.495398</td>\n",
       "      <td id=\"T_404f5_row2_col3\" class=\"data row2 col3\" >0.420000</td>\n",
       "      <td id=\"T_404f5_row2_col4\" class=\"data row2 col4\" >18.000000</td>\n",
       "      <td id=\"T_404f5_row2_col5\" class=\"data row2 col5\" >24.000000</td>\n",
       "      <td id=\"T_404f5_row2_col6\" class=\"data row2 col6\" >32.000000</td>\n",
       "      <td id=\"T_404f5_row2_col7\" class=\"data row2 col7\" >74.000000</td>\n",
       "    </tr>\n",
       "  </tbody>\n",
       "</table>\n"
      ],
      "text/plain": [
       "<pandas.io.formats.style.Styler at 0x1389ad9e940>"
      ]
     },
     "execution_count": 313,
     "metadata": {},
     "output_type": "execute_result"
    }
   ],
   "source": [
    "print('Age grouped by Pclass:') \n",
    "train.groupby('Pclass')['Age'].describe().style.bar(\n",
    "     subset=['mean'], color = '#7BCC70')\\\n",
    "    .background_gradient(subset = ['std'], cmap = 'flare')\\\n",
    "    .background_gradient(subset = ['50%'], cmap = 'flare') "
   ]
  },
  {
   "cell_type": "code",
   "execution_count": 314,
   "id": "cb8c102c",
   "metadata": {
    "_kg_hide-input": true,
    "papermill": {
     "duration": 0.045962,
     "end_time": "2023-01-04T15:21:09.953829",
     "exception": false,
     "start_time": "2023-01-04T15:21:09.907867",
     "status": "completed"
    },
    "tags": []
   },
   "outputs": [
    {
     "name": "stdout",
     "output_type": "stream",
     "text": [
      "Age grouped by Sex:\n"
     ]
    },
    {
     "data": {
      "text/html": [
       "<style type=\"text/css\">\n",
       "#T_c13c2_row0_col1 {\n",
       "  width: 10em;\n",
       "  height: 80%;\n",
       "}\n",
       "#T_c13c2_row0_col2, #T_c13c2_row0_col5 {\n",
       "  background-color: #edb081;\n",
       "  color: #000000;\n",
       "}\n",
       "#T_c13c2_row1_col1 {\n",
       "  width: 10em;\n",
       "  height: 80%;\n",
       "  background: linear-gradient(90deg,#7BCC70 100.0%, transparent 100.0%);\n",
       "}\n",
       "#T_c13c2_row1_col2, #T_c13c2_row1_col5 {\n",
       "  background-color: #4b2362;\n",
       "  color: #f1f1f1;\n",
       "}\n",
       "</style>\n",
       "<table id=\"T_c13c2_\">\n",
       "  <thead>\n",
       "    <tr>\n",
       "      <th class=\"blank level0\" >&nbsp;</th>\n",
       "      <th class=\"col_heading level0 col0\" >count</th>\n",
       "      <th class=\"col_heading level0 col1\" >mean</th>\n",
       "      <th class=\"col_heading level0 col2\" >std</th>\n",
       "      <th class=\"col_heading level0 col3\" >min</th>\n",
       "      <th class=\"col_heading level0 col4\" >25%</th>\n",
       "      <th class=\"col_heading level0 col5\" >50%</th>\n",
       "      <th class=\"col_heading level0 col6\" >75%</th>\n",
       "      <th class=\"col_heading level0 col7\" >max</th>\n",
       "    </tr>\n",
       "    <tr>\n",
       "      <th class=\"index_name level0\" >Sex</th>\n",
       "      <th class=\"blank col0\" >&nbsp;</th>\n",
       "      <th class=\"blank col1\" >&nbsp;</th>\n",
       "      <th class=\"blank col2\" >&nbsp;</th>\n",
       "      <th class=\"blank col3\" >&nbsp;</th>\n",
       "      <th class=\"blank col4\" >&nbsp;</th>\n",
       "      <th class=\"blank col5\" >&nbsp;</th>\n",
       "      <th class=\"blank col6\" >&nbsp;</th>\n",
       "      <th class=\"blank col7\" >&nbsp;</th>\n",
       "    </tr>\n",
       "  </thead>\n",
       "  <tbody>\n",
       "    <tr>\n",
       "      <th id=\"T_c13c2_level0_row0\" class=\"row_heading level0 row0\" >female</th>\n",
       "      <td id=\"T_c13c2_row0_col0\" class=\"data row0 col0\" >261.000000</td>\n",
       "      <td id=\"T_c13c2_row0_col1\" class=\"data row0 col1\" >27.915709</td>\n",
       "      <td id=\"T_c13c2_row0_col2\" class=\"data row0 col2\" >14.110146</td>\n",
       "      <td id=\"T_c13c2_row0_col3\" class=\"data row0 col3\" >0.750000</td>\n",
       "      <td id=\"T_c13c2_row0_col4\" class=\"data row0 col4\" >18.000000</td>\n",
       "      <td id=\"T_c13c2_row0_col5\" class=\"data row0 col5\" >27.000000</td>\n",
       "      <td id=\"T_c13c2_row0_col6\" class=\"data row0 col6\" >37.000000</td>\n",
       "      <td id=\"T_c13c2_row0_col7\" class=\"data row0 col7\" >63.000000</td>\n",
       "    </tr>\n",
       "    <tr>\n",
       "      <th id=\"T_c13c2_level0_row1\" class=\"row_heading level0 row1\" >male</th>\n",
       "      <td id=\"T_c13c2_row1_col0\" class=\"data row1 col0\" >453.000000</td>\n",
       "      <td id=\"T_c13c2_row1_col1\" class=\"data row1 col1\" >30.726645</td>\n",
       "      <td id=\"T_c13c2_row1_col2\" class=\"data row1 col2\" >14.678201</td>\n",
       "      <td id=\"T_c13c2_row1_col3\" class=\"data row1 col3\" >0.420000</td>\n",
       "      <td id=\"T_c13c2_row1_col4\" class=\"data row1 col4\" >21.000000</td>\n",
       "      <td id=\"T_c13c2_row1_col5\" class=\"data row1 col5\" >29.000000</td>\n",
       "      <td id=\"T_c13c2_row1_col6\" class=\"data row1 col6\" >39.000000</td>\n",
       "      <td id=\"T_c13c2_row1_col7\" class=\"data row1 col7\" >80.000000</td>\n",
       "    </tr>\n",
       "  </tbody>\n",
       "</table>\n"
      ],
      "text/plain": [
       "<pandas.io.formats.style.Styler at 0x1389dcce430>"
      ]
     },
     "execution_count": 314,
     "metadata": {},
     "output_type": "execute_result"
    }
   ],
   "source": [
    " print('Age grouped by Sex:') \n",
    "train.groupby('Sex')['Age'].describe().style.bar(\n",
    "     subset=['mean'], color = '#7BCC70')\\\n",
    "    .background_gradient(subset = ['std'], cmap = 'flare')\\\n",
    "    .background_gradient(subset = ['50%'], cmap = 'flare') "
   ]
  },
  {
   "cell_type": "code",
   "execution_count": 315,
   "id": "fbecaf86",
   "metadata": {
    "papermill": {
     "duration": 0.036707,
     "end_time": "2023-01-04T15:21:10.009407",
     "exception": false,
     "start_time": "2023-01-04T15:21:09.972700",
     "status": "completed"
    },
    "tags": []
   },
   "outputs": [
    {
     "name": "stdout",
     "output_type": "stream",
     "text": [
      "Age grouped by Pclass and Sex in the train data:\n"
     ]
    },
    {
     "data": {
      "text/plain": [
       "Pclass  Sex   \n",
       "1       female    34.611765\n",
       "        male      41.281386\n",
       "2       female    28.722973\n",
       "        male      30.740707\n",
       "3       female    21.750000\n",
       "        male      26.507589\n",
       "Name: Age, dtype: float64"
      ]
     },
     "execution_count": 315,
     "metadata": {},
     "output_type": "execute_result"
    }
   ],
   "source": [
    "# utility \n",
    "data_train = train.groupby(['Pclass','Sex'])['Age'].mean()\n",
    "print(\"Age grouped by Pclass and Sex in the train data:\")\n",
    "data_train"
   ]
  },
  {
   "cell_type": "code",
   "execution_count": null,
   "id": "95535c20",
   "metadata": {
    "_kg_hide-input": true,
    "papermill": {
     "duration": 0.034047,
     "end_time": "2023-01-04T15:21:10.063410",
     "exception": false,
     "start_time": "2023-01-04T15:21:10.029363",
     "status": "completed"
    },
    "tags": []
   },
   "outputs": [],
   "source": []
  },
  {
   "cell_type": "code",
   "execution_count": 316,
   "id": "af254c03",
   "metadata": {
    "papermill": {
     "duration": 0.060947,
     "end_time": "2023-01-04T15:21:10.144372",
     "exception": false,
     "start_time": "2023-01-04T15:21:10.083425",
     "status": "completed"
    },
    "tags": []
   },
   "outputs": [],
   "source": [
    "# function to fill null age values in the train set\n",
    "def fill_train_age(pclass, sex, age):\n",
    "    '''\n",
    "    takes in the pclass, sex and age \n",
    "    if the age is null, then extracts the age from 'data'and returns the corrosponding age\n",
    "    else returns the original age\n",
    "    '''\n",
    "    if np.isnan(age): \n",
    "        return data_train.loc[(pclass, sex)]\n",
    "    else: \n",
    "        return age\n",
    "    \n",
    "# filling the missing values\n",
    "train['Age'] = train.apply(lambda x: fill_train_age(x['Pclass'], x['Sex'], x['Age']), axis=1)       "
   ]
  },
  {
   "cell_type": "code",
   "execution_count": null,
   "id": "c11759b9",
   "metadata": {
    "papermill": {
     "duration": 0.043441,
     "end_time": "2023-01-04T15:21:10.206751",
     "exception": false,
     "start_time": "2023-01-04T15:21:10.163310",
     "status": "completed"
    },
    "tags": []
   },
   "outputs": [],
   "source": []
  },
  {
   "cell_type": "markdown",
   "id": "6dcc8bfe",
   "metadata": {
    "papermill": {
     "duration": 0.018477,
     "end_time": "2023-01-04T15:21:10.337026",
     "exception": false,
     "start_time": "2023-01-04T15:21:10.318549",
     "status": "completed"
    },
    "tags": []
   },
   "source": [
    "## 2.2 Embarked (Train only)"
   ]
  },
  {
   "cell_type": "code",
   "execution_count": 317,
   "id": "5d34dfab",
   "metadata": {
    "papermill": {
     "duration": 0.027342,
     "end_time": "2023-01-04T15:21:10.383278",
     "exception": false,
     "start_time": "2023-01-04T15:21:10.355936",
     "status": "completed"
    },
    "tags": []
   },
   "outputs": [],
   "source": [
    "# storing the most common 'Embarked' value\n",
    "common_value = train['Embarked'].value_counts().idxmax()"
   ]
  },
  {
   "cell_type": "code",
   "execution_count": 318,
   "id": "051d151e",
   "metadata": {
    "papermill": {
     "duration": 0.028224,
     "end_time": "2023-01-04T15:21:10.430749",
     "exception": false,
     "start_time": "2023-01-04T15:21:10.402525",
     "status": "completed"
    },
    "tags": []
   },
   "outputs": [],
   "source": [
    "# filling all null values\n",
    "train['Embarked'] =train['Embarked'].fillna(common_value)"
   ]
  },
  {
   "cell_type": "code",
   "execution_count": 319,
   "id": "be81096a",
   "metadata": {
    "papermill": {
     "duration": 0.028578,
     "end_time": "2023-01-04T15:21:10.478761",
     "exception": false,
     "start_time": "2023-01-04T15:21:10.450183",
     "status": "completed"
    },
    "tags": []
   },
   "outputs": [
    {
     "data": {
      "text/plain": [
       "0"
      ]
     },
     "execution_count": 319,
     "metadata": {},
     "output_type": "execute_result"
    }
   ],
   "source": [
    "# check\n",
    "train['Embarked'].isnull().sum()"
   ]
  },
  {
   "cell_type": "markdown",
   "id": "9aafb164",
   "metadata": {
    "papermill": {
     "duration": 0.018737,
     "end_time": "2023-01-04T15:21:10.516692",
     "exception": false,
     "start_time": "2023-01-04T15:21:10.497955",
     "status": "completed"
    },
    "tags": []
   },
   "source": [
    "## 2.3 Cabin (Train & Test)\n",
    "\n",
    "Turns out, the first letter of the Cabin signifies the decks on which the cabins are located. Let's first explore this furthur"
   ]
  },
  {
   "cell_type": "code",
   "execution_count": 320,
   "id": "10ff47e5",
   "metadata": {
    "papermill": {
     "duration": 0.030617,
     "end_time": "2023-01-04T15:21:10.566921",
     "exception": false,
     "start_time": "2023-01-04T15:21:10.536304",
     "status": "completed"
    },
    "tags": []
   },
   "outputs": [],
   "source": [
    "train['Deck'] = train['Cabin'].apply(lambda x: x[0] if pd.notnull(x) else 'M')"
   ]
  },
  {
   "cell_type": "code",
   "execution_count": 321,
   "id": "f04a5be4",
   "metadata": {
    "_kg_hide-input": true,
    "papermill": {
     "duration": 0.036228,
     "end_time": "2023-01-04T15:21:10.622523",
     "exception": false,
     "start_time": "2023-01-04T15:21:10.586295",
     "status": "completed"
    },
    "tags": []
   },
   "outputs": [
    {
     "name": "stdout",
     "output_type": "stream",
     "text": [
      "Train data grouped by Deck and Pclass:\n"
     ]
    },
    {
     "data": {
      "text/html": [
       "<div>\n",
       "<style scoped>\n",
       "    .dataframe tbody tr th:only-of-type {\n",
       "        vertical-align: middle;\n",
       "    }\n",
       "\n",
       "    .dataframe tbody tr th {\n",
       "        vertical-align: top;\n",
       "    }\n",
       "\n",
       "    .dataframe thead th {\n",
       "        text-align: right;\n",
       "    }\n",
       "</style>\n",
       "<table border=\"1\" class=\"dataframe\">\n",
       "  <thead>\n",
       "    <tr style=\"text-align: right;\">\n",
       "      <th></th>\n",
       "      <th>Deck</th>\n",
       "      <th>Pclass</th>\n",
       "      <th>Counts</th>\n",
       "    </tr>\n",
       "  </thead>\n",
       "  <tbody>\n",
       "    <tr>\n",
       "      <th>0</th>\n",
       "      <td>A</td>\n",
       "      <td>1</td>\n",
       "      <td>15</td>\n",
       "    </tr>\n",
       "    <tr>\n",
       "      <th>1</th>\n",
       "      <td>B</td>\n",
       "      <td>1</td>\n",
       "      <td>47</td>\n",
       "    </tr>\n",
       "    <tr>\n",
       "      <th>2</th>\n",
       "      <td>C</td>\n",
       "      <td>1</td>\n",
       "      <td>59</td>\n",
       "    </tr>\n",
       "    <tr>\n",
       "      <th>3</th>\n",
       "      <td>D</td>\n",
       "      <td>1</td>\n",
       "      <td>29</td>\n",
       "    </tr>\n",
       "    <tr>\n",
       "      <th>4</th>\n",
       "      <td>D</td>\n",
       "      <td>2</td>\n",
       "      <td>4</td>\n",
       "    </tr>\n",
       "    <tr>\n",
       "      <th>5</th>\n",
       "      <td>E</td>\n",
       "      <td>1</td>\n",
       "      <td>25</td>\n",
       "    </tr>\n",
       "    <tr>\n",
       "      <th>6</th>\n",
       "      <td>E</td>\n",
       "      <td>2</td>\n",
       "      <td>4</td>\n",
       "    </tr>\n",
       "    <tr>\n",
       "      <th>7</th>\n",
       "      <td>E</td>\n",
       "      <td>3</td>\n",
       "      <td>3</td>\n",
       "    </tr>\n",
       "    <tr>\n",
       "      <th>8</th>\n",
       "      <td>F</td>\n",
       "      <td>2</td>\n",
       "      <td>8</td>\n",
       "    </tr>\n",
       "    <tr>\n",
       "      <th>9</th>\n",
       "      <td>F</td>\n",
       "      <td>3</td>\n",
       "      <td>5</td>\n",
       "    </tr>\n",
       "    <tr>\n",
       "      <th>10</th>\n",
       "      <td>G</td>\n",
       "      <td>3</td>\n",
       "      <td>4</td>\n",
       "    </tr>\n",
       "    <tr>\n",
       "      <th>11</th>\n",
       "      <td>M</td>\n",
       "      <td>1</td>\n",
       "      <td>40</td>\n",
       "    </tr>\n",
       "    <tr>\n",
       "      <th>12</th>\n",
       "      <td>M</td>\n",
       "      <td>2</td>\n",
       "      <td>168</td>\n",
       "    </tr>\n",
       "    <tr>\n",
       "      <th>13</th>\n",
       "      <td>M</td>\n",
       "      <td>3</td>\n",
       "      <td>479</td>\n",
       "    </tr>\n",
       "    <tr>\n",
       "      <th>14</th>\n",
       "      <td>T</td>\n",
       "      <td>1</td>\n",
       "      <td>1</td>\n",
       "    </tr>\n",
       "  </tbody>\n",
       "</table>\n",
       "</div>"
      ],
      "text/plain": [
       "   Deck  Pclass  Counts\n",
       "0     A       1      15\n",
       "1     B       1      47\n",
       "2     C       1      59\n",
       "3     D       1      29\n",
       "4     D       2       4\n",
       "5     E       1      25\n",
       "6     E       2       4\n",
       "7     E       3       3\n",
       "8     F       2       8\n",
       "9     F       3       5\n",
       "10    G       3       4\n",
       "11    M       1      40\n",
       "12    M       2     168\n",
       "13    M       3     479\n",
       "14    T       1       1"
      ]
     },
     "execution_count": 321,
     "metadata": {},
     "output_type": "execute_result"
    }
   ],
   "source": [
    "print('Train data grouped by Deck and Pclass:')\n",
    "train.groupby(['Deck', 'Pclass']).size().reset_index(name = 'Counts')"
   ]
  },
  {
   "cell_type": "code",
   "execution_count": null,
   "id": "1b157cbb",
   "metadata": {
    "_kg_hide-input": true,
    "papermill": {
     "duration": 0.039871,
     "end_time": "2023-01-04T15:21:10.682020",
     "exception": false,
     "start_time": "2023-01-04T15:21:10.642149",
     "status": "completed"
    },
    "tags": []
   },
   "outputs": [],
   "source": []
  },
  {
   "cell_type": "code",
   "execution_count": 322,
   "id": "24ade0fc",
   "metadata": {
    "papermill": {
     "duration": 0.033606,
     "end_time": "2023-01-04T15:21:10.735600",
     "exception": false,
     "start_time": "2023-01-04T15:21:10.701994",
     "status": "completed"
    },
    "tags": []
   },
   "outputs": [],
   "source": [
    "train['Deck'] = train['Deck'].replace(['A', 'B', 'C', 'T'], 'ABC')\n",
    "train['Deck'] = train['Deck'].replace(['D', 'E'], 'DE')\n",
    "train['Deck'] = train['Deck'].replace(['F', 'G'], 'FG')"
   ]
  },
  {
   "cell_type": "markdown",
   "id": "0ae5f54b",
   "metadata": {
    "papermill": {
     "duration": 0.01985,
     "end_time": "2023-01-04T15:21:10.775176",
     "exception": false,
     "start_time": "2023-01-04T15:21:10.755326",
     "status": "completed"
    },
    "tags": []
   },
   "source": [
    "## 3  - Feature Engineering"
   ]
  },
  {
   "cell_type": "markdown",
   "id": "baf38a07",
   "metadata": {
    "papermill": {
     "duration": 0.019749,
     "end_time": "2023-01-04T15:21:10.814743",
     "exception": false,
     "start_time": "2023-01-04T15:21:10.794994",
     "status": "completed"
    },
    "tags": []
   },
   "source": [
    "## 3.1 Extracting titles from 'Name' \n",
    "We cannot use the whole name as there are a lot of unique names. But all the names have a title that is associated with the person. We can extract the titles and convert them into dummies.\n"
   ]
  },
  {
   "cell_type": "code",
   "execution_count": 323,
   "id": "9017f6e8",
   "metadata": {
    "papermill": {
     "duration": 0.029233,
     "end_time": "2023-01-04T15:21:10.864107",
     "exception": false,
     "start_time": "2023-01-04T15:21:10.834874",
     "status": "completed"
    },
    "tags": []
   },
   "outputs": [],
   "source": [
    "# storing the most common titles \n",
    "titles = ['Mr', 'Miss', 'Mrs', 'Master', 'Other', 'Mlle', 'Ms', 'Mme']"
   ]
  },
  {
   "cell_type": "code",
   "execution_count": 324,
   "id": "92627d98",
   "metadata": {
    "papermill": {
     "duration": 0.027769,
     "end_time": "2023-01-04T15:21:10.911800",
     "exception": false,
     "start_time": "2023-01-04T15:21:10.884031",
     "status": "completed"
    },
    "tags": []
   },
   "outputs": [],
   "source": [
    "# function to extract the tile \n",
    "def extract_title(name):\n",
    "    '''\n",
    "    takes in the name feature\n",
    "    splits the name based on space and creates a list \n",
    "    stores in the 2nd item (title) in the variable 'title'\n",
    "    \n",
    "    if the title is not among the common titles, returns 'Other'\n",
    "    else returns the title \n",
    "    '''\n",
    "\n",
    "    title = name.split('.')[0].split(' ')[-1]\n",
    "    \n",
    "    if title not in titles:\n",
    "        return titles[4]\n",
    "    else:\n",
    "        return title\n"
   ]
  },
  {
   "cell_type": "code",
   "execution_count": 325,
   "id": "d2cf9447",
   "metadata": {
    "papermill": {
     "duration": 0.045519,
     "end_time": "2023-01-04T15:21:10.976794",
     "exception": false,
     "start_time": "2023-01-04T15:21:10.931275",
     "status": "completed"
    },
    "tags": []
   },
   "outputs": [],
   "source": [
    "# extracting the title in a different coulmn\n",
    "train['Title'] = train.apply(lambda x: extract_title(x['Name']), axis=1) "
   ]
  },
  {
   "cell_type": "code",
   "execution_count": 326,
   "id": "98d05fa9",
   "metadata": {
    "papermill": {
     "duration": 0.032631,
     "end_time": "2023-01-04T15:21:11.029579",
     "exception": false,
     "start_time": "2023-01-04T15:21:10.996948",
     "status": "completed"
    },
    "tags": []
   },
   "outputs": [],
   "source": [
    "# replacing \n",
    "train['Title'] = train['Title'].replace('Mlle', 'Miss')\n",
    "train['Title'] = train['Title'].replace('Ms', 'Miss')\n",
    "train['Title'] = train['Title'].replace('Mme', 'Mrs')\n"
   ]
  },
  {
   "cell_type": "code",
   "execution_count": null,
   "id": "322736c2-b100-48f9-86b9-51a95968f3be",
   "metadata": {},
   "outputs": [],
   "source": []
  },
  {
   "cell_type": "markdown",
   "id": "7a061efb",
   "metadata": {
    "papermill": {
     "duration": 0.019925,
     "end_time": "2023-01-04T15:21:11.070276",
     "exception": false,
     "start_time": "2023-01-04T15:21:11.050351",
     "status": "completed"
    },
    "tags": []
   },
   "source": [
    "## 3.2 Fam size"
   ]
  },
  {
   "cell_type": "code",
   "execution_count": 327,
   "id": "7d5bc2c2-b7d2-4d67-9b5d-654e9b21c080",
   "metadata": {},
   "outputs": [
    {
     "data": {
      "text/html": [
       "<div>\n",
       "<style scoped>\n",
       "    .dataframe tbody tr th:only-of-type {\n",
       "        vertical-align: middle;\n",
       "    }\n",
       "\n",
       "    .dataframe tbody tr th {\n",
       "        vertical-align: top;\n",
       "    }\n",
       "\n",
       "    .dataframe thead th {\n",
       "        text-align: right;\n",
       "    }\n",
       "</style>\n",
       "<table border=\"1\" class=\"dataframe\">\n",
       "  <thead>\n",
       "    <tr style=\"text-align: right;\">\n",
       "      <th></th>\n",
       "      <th>PassengerId</th>\n",
       "      <th>Survived</th>\n",
       "      <th>Pclass</th>\n",
       "      <th>Name</th>\n",
       "      <th>Sex</th>\n",
       "      <th>Age</th>\n",
       "      <th>SibSp</th>\n",
       "      <th>Parch</th>\n",
       "      <th>Ticket</th>\n",
       "      <th>Fare</th>\n",
       "      <th>Cabin</th>\n",
       "      <th>Embarked</th>\n",
       "      <th>Deck</th>\n",
       "      <th>Title</th>\n",
       "    </tr>\n",
       "  </thead>\n",
       "  <tbody>\n",
       "    <tr>\n",
       "      <th>0</th>\n",
       "      <td>1</td>\n",
       "      <td>0</td>\n",
       "      <td>3</td>\n",
       "      <td>Braund, Mr. Owen Harris</td>\n",
       "      <td>male</td>\n",
       "      <td>22.0</td>\n",
       "      <td>1</td>\n",
       "      <td>0</td>\n",
       "      <td>A/5 21171</td>\n",
       "      <td>7.2500</td>\n",
       "      <td>NaN</td>\n",
       "      <td>S</td>\n",
       "      <td>M</td>\n",
       "      <td>Mr</td>\n",
       "    </tr>\n",
       "    <tr>\n",
       "      <th>1</th>\n",
       "      <td>2</td>\n",
       "      <td>1</td>\n",
       "      <td>1</td>\n",
       "      <td>Cumings, Mrs. John Bradley (Florence Briggs Th...</td>\n",
       "      <td>female</td>\n",
       "      <td>38.0</td>\n",
       "      <td>1</td>\n",
       "      <td>0</td>\n",
       "      <td>PC 17599</td>\n",
       "      <td>71.2833</td>\n",
       "      <td>C85</td>\n",
       "      <td>C</td>\n",
       "      <td>ABC</td>\n",
       "      <td>Mrs</td>\n",
       "    </tr>\n",
       "    <tr>\n",
       "      <th>2</th>\n",
       "      <td>3</td>\n",
       "      <td>1</td>\n",
       "      <td>3</td>\n",
       "      <td>Heikkinen, Miss. Laina</td>\n",
       "      <td>female</td>\n",
       "      <td>26.0</td>\n",
       "      <td>0</td>\n",
       "      <td>0</td>\n",
       "      <td>STON/O2. 3101282</td>\n",
       "      <td>7.9250</td>\n",
       "      <td>NaN</td>\n",
       "      <td>S</td>\n",
       "      <td>M</td>\n",
       "      <td>Miss</td>\n",
       "    </tr>\n",
       "    <tr>\n",
       "      <th>3</th>\n",
       "      <td>4</td>\n",
       "      <td>1</td>\n",
       "      <td>1</td>\n",
       "      <td>Futrelle, Mrs. Jacques Heath (Lily May Peel)</td>\n",
       "      <td>female</td>\n",
       "      <td>35.0</td>\n",
       "      <td>1</td>\n",
       "      <td>0</td>\n",
       "      <td>113803</td>\n",
       "      <td>53.1000</td>\n",
       "      <td>C123</td>\n",
       "      <td>S</td>\n",
       "      <td>ABC</td>\n",
       "      <td>Mrs</td>\n",
       "    </tr>\n",
       "    <tr>\n",
       "      <th>4</th>\n",
       "      <td>5</td>\n",
       "      <td>0</td>\n",
       "      <td>3</td>\n",
       "      <td>Allen, Mr. William Henry</td>\n",
       "      <td>male</td>\n",
       "      <td>35.0</td>\n",
       "      <td>0</td>\n",
       "      <td>0</td>\n",
       "      <td>373450</td>\n",
       "      <td>8.0500</td>\n",
       "      <td>NaN</td>\n",
       "      <td>S</td>\n",
       "      <td>M</td>\n",
       "      <td>Mr</td>\n",
       "    </tr>\n",
       "  </tbody>\n",
       "</table>\n",
       "</div>"
      ],
      "text/plain": [
       "   PassengerId  Survived  Pclass  \\\n",
       "0            1         0       3   \n",
       "1            2         1       1   \n",
       "2            3         1       3   \n",
       "3            4         1       1   \n",
       "4            5         0       3   \n",
       "\n",
       "                                                Name     Sex   Age  SibSp  \\\n",
       "0                            Braund, Mr. Owen Harris    male  22.0      1   \n",
       "1  Cumings, Mrs. John Bradley (Florence Briggs Th...  female  38.0      1   \n",
       "2                             Heikkinen, Miss. Laina  female  26.0      0   \n",
       "3       Futrelle, Mrs. Jacques Heath (Lily May Peel)  female  35.0      1   \n",
       "4                           Allen, Mr. William Henry    male  35.0      0   \n",
       "\n",
       "   Parch            Ticket     Fare Cabin Embarked Deck Title  \n",
       "0      0         A/5 21171   7.2500   NaN        S    M    Mr  \n",
       "1      0          PC 17599  71.2833   C85        C  ABC   Mrs  \n",
       "2      0  STON/O2. 3101282   7.9250   NaN        S    M  Miss  \n",
       "3      0            113803  53.1000  C123        S  ABC   Mrs  \n",
       "4      0            373450   8.0500   NaN        S    M    Mr  "
      ]
     },
     "execution_count": 327,
     "metadata": {},
     "output_type": "execute_result"
    }
   ],
   "source": [
    "train.head()"
   ]
  },
  {
   "cell_type": "code",
   "execution_count": 328,
   "id": "6df506b5",
   "metadata": {
    "_kg_hide-input": true,
    "papermill": {
     "duration": 0.465937,
     "end_time": "2023-01-04T15:21:11.556003",
     "exception": false,
     "start_time": "2023-01-04T15:21:11.090066",
     "status": "completed"
    },
    "tags": []
   },
   "outputs": [
    {
     "data": {
      "text/plain": [
       "<AxesSubplot:xlabel='Fam Size', ylabel='Count'>"
      ]
     },
     "execution_count": 328,
     "metadata": {},
     "output_type": "execute_result"
    },
    {
     "data": {
      "image/png": "[encoded data removed]",
      "text/plain": [
       "<Figure size 648x360 with 1 Axes>"
      ]
     },
     "metadata": {
      "needs_background": "light"
     },
     "output_type": "display_data"
    }
   ],
   "source": [
    "train['Fam Size'] = train['SibSp'] + train['Parch'] + 1\n",
    "plt.figure(figsize = (9, 5))\n",
    "sns.histplot(x = 'Fam Size', data = train, binwidth= 0.5 )"
   ]
  },
  {
   "cell_type": "code",
   "execution_count": 329,
   "id": "4291213b",
   "metadata": {
    "papermill": {
     "duration": 0.035871,
     "end_time": "2023-01-04T15:21:11.614016",
     "exception": false,
     "start_time": "2023-01-04T15:21:11.578145",
     "status": "completed"
    },
    "tags": []
   },
   "outputs": [],
   "source": [
    "family_map = {1: 'Alone', 2: 'Small', 3: 'Small', 4: 'Small', 5: 'Medium', 6: 'Medium', 7: 'Large', 8: 'Large', 11: 'Large'}\n",
    "\n",
    "train['Fam Size grouped'] = train['Fam Size'].map(family_map)"
   ]
  },
  {
   "cell_type": "code",
   "execution_count": null,
   "id": "11dc5ca9-cf84-4ce4-98de-5ce3c9bf1d21",
   "metadata": {},
   "outputs": [],
   "source": []
  },
  {
   "cell_type": "code",
   "execution_count": null,
   "id": "40b88d87-1097-43cc-9cf8-cfd35b58607f",
   "metadata": {
    "tags": []
   },
   "outputs": [],
   "source": []
  },
  {
   "cell_type": "code",
   "execution_count": 330,
   "id": "0844db2c",
   "metadata": {
    "_kg_hide-input": true,
    "papermill": {
     "duration": 0.335494,
     "end_time": "2023-01-04T15:21:11.971348",
     "exception": false,
     "start_time": "2023-01-04T15:21:11.635854",
     "status": "completed"
    },
    "tags": []
   },
   "outputs": [
    {
     "data": {
      "image/png": "[encoded data removed]",
      "text/plain": [
       "<Figure size 648x360 with 1 Axes>"
      ]
     },
     "metadata": {
      "needs_background": "light"
     },
     "output_type": "display_data"
    }
   ],
   "source": [
    "plt.figure(figsize = (9, 5))\n",
    "sns.histplot(x = 'Fam Size grouped', data = train, binwidth= 0.5).set_title(\"Fam Size grouped Distribution in Train\")\n",
    "plt.show()"
   ]
  },
  {
   "cell_type": "markdown",
   "id": "960588cb",
   "metadata": {
    "papermill": {
     "duration": 0.020677,
     "end_time": "2023-01-04T15:21:12.013160",
     "exception": false,
     "start_time": "2023-01-04T15:21:11.992483",
     "status": "completed"
    },
    "tags": []
   },
   "source": [
    "## 3.3 Age "
   ]
  },
  {
   "cell_type": "code",
   "execution_count": 331,
   "id": "7c253b03-e5c6-4b6a-bdc0-732d1261150a",
   "metadata": {},
   "outputs": [
    {
     "data": {
      "text/plain": [
       "26.507589    94\n",
       "21.750000    42\n",
       "24.000000    30\n",
       "22.000000    27\n",
       "18.000000    26\n",
       "             ..\n",
       "14.500000     1\n",
       "70.500000     1\n",
       "12.000000     1\n",
       "36.500000     1\n",
       "74.000000     1\n",
       "Name: Age, Length: 94, dtype: int64"
      ]
     },
     "execution_count": 331,
     "metadata": {},
     "output_type": "execute_result"
    }
   ],
   "source": [
    "train['Age'].value_counts()"
   ]
  },
  {
   "cell_type": "code",
   "execution_count": 332,
   "id": "3ac674a0-52b8-4caa-a142-c72f9bfb56c2",
   "metadata": {},
   "outputs": [
    {
     "data": {
      "text/plain": [
       "0"
      ]
     },
     "execution_count": 332,
     "metadata": {},
     "output_type": "execute_result"
    }
   ],
   "source": [
    "train['Age'].isnull().sum()"
   ]
  },
  {
   "cell_type": "code",
   "execution_count": 333,
   "id": "5bf91bff-f3f9-4f74-960c-d466d24a53b7",
   "metadata": {},
   "outputs": [
    {
     "data": {
      "text/plain": [
       "PassengerId           0\n",
       "Survived              0\n",
       "Pclass                0\n",
       "Name                  0\n",
       "Sex                   0\n",
       "Age                   0\n",
       "SibSp                 0\n",
       "Parch                 0\n",
       "Ticket                0\n",
       "Fare                  0\n",
       "Cabin               687\n",
       "Embarked              0\n",
       "Deck                  0\n",
       "Title                 0\n",
       "Fam Size              0\n",
       "Fam Size grouped      0\n",
       "dtype: int64"
      ]
     },
     "execution_count": 333,
     "metadata": {},
     "output_type": "execute_result"
    }
   ],
   "source": [
    "train.isnull().sum()"
   ]
  },
  {
   "cell_type": "code",
   "execution_count": null,
   "id": "1a6f16b3-3e45-4506-8f26-dad7403c331c",
   "metadata": {},
   "outputs": [],
   "source": []
  },
  {
   "cell_type": "markdown",
   "id": "866362c0-47b6-4288-af1a-36a44c7ca562",
   "metadata": {
    "papermill": {
     "duration": 0.03788,
     "end_time": "2023-01-04T15:21:12.072000",
     "exception": false,
     "start_time": "2023-01-04T15:21:12.034120",
     "status": "completed"
    },
    "tags": []
   },
   "source": [
    "### bins = [0,10, 20, 30, 40, 50, 60, 80]\n",
    "labels=['babies','teens','20s', '30s','40s','50s','oldage']\n",
    "\n",
    "train['Age group'] = pd.cut(train['Age'], bins, labels=labels)\n",
    "\n",
    "age_map = {'babies': 1, 'teens': 2, '20s': 3, '30s': 4, '40s': 5, '50s': 6, 'oldge': 7}\n",
    "train['Age group'] = pd.to_numeric(train['Age group'].map(age_map))"
   ]
  },
  {
   "cell_type": "markdown",
   "id": "d7a83503-d7aa-4ad7-9dcd-a19395c1ba8c",
   "metadata": {},
   "source": [
    "### train.loc[train['Age'] <= 16, 'Age'] = 0\n",
    "train.loc[(train['Age'] > 16) & (train['Age'] <= 26), 'Age'] = 1\n",
    "train.loc[(train['Age'] > 26) & (train['Age'] <= 36), 'Age'] = 2\n",
    "train.loc[(train['Age'] > 36) & (train['Age'] <= 62), 'Age'] = 3\n",
    "train.loc[train['Age'] > 62, 'Age'] = 4\n",
    "   "
   ]
  },
  {
   "cell_type": "code",
   "execution_count": 334,
   "id": "89de71fd-d2aa-423a-83db-0cc4e7e58070",
   "metadata": {},
   "outputs": [
    {
     "data": {
      "text/plain": [
       "PassengerId           0\n",
       "Survived              0\n",
       "Pclass                0\n",
       "Name                  0\n",
       "Sex                   0\n",
       "Age                   0\n",
       "SibSp                 0\n",
       "Parch                 0\n",
       "Ticket                0\n",
       "Fare                  0\n",
       "Cabin               687\n",
       "Embarked              0\n",
       "Deck                  0\n",
       "Title                 0\n",
       "Fam Size              0\n",
       "Fam Size grouped      0\n",
       "dtype: int64"
      ]
     },
     "execution_count": 334,
     "metadata": {},
     "output_type": "execute_result"
    }
   ],
   "source": [
    "train.isnull().sum()"
   ]
  },
  {
   "cell_type": "code",
   "execution_count": 335,
   "id": "f485e9a7-6609-4cec-bb69-e43b96a8139e",
   "metadata": {},
   "outputs": [],
   "source": [
    "bins = [0,10, 20, 30, 40, 50, 60, 80]\n",
    "labels=['babies','teens','20s', '30s','40s','50s','oldge']\n",
    "\n",
    "train['Age group'] = pd.cut(train['Age'], bins, labels=labels)\n",
    "\n",
    "\n",
    "age_map = {'babies': 1, 'teens': 2, '20s': 3, '30s': 4, '40s': 5, '50s': 6, 'oldge': 7}\n",
    "train['Age group'] = pd.to_numeric(train['Age group'].map(age_map))\n"
   ]
  },
  {
   "cell_type": "code",
   "execution_count": 336,
   "id": "ace973a7-769e-4237-a348-eebe90da0c15",
   "metadata": {},
   "outputs": [
    {
     "data": {
      "text/plain": [
       "PassengerId           0\n",
       "Survived              0\n",
       "Pclass                0\n",
       "Name                  0\n",
       "Sex                   0\n",
       "Age                   0\n",
       "SibSp                 0\n",
       "Parch                 0\n",
       "Ticket                0\n",
       "Fare                  0\n",
       "Cabin               687\n",
       "Embarked              0\n",
       "Deck                  0\n",
       "Title                 0\n",
       "Fam Size              0\n",
       "Fam Size grouped      0\n",
       "Age group             0\n",
       "dtype: int64"
      ]
     },
     "execution_count": 336,
     "metadata": {},
     "output_type": "execute_result"
    }
   ],
   "source": [
    "train.isnull().sum()"
   ]
  },
  {
   "cell_type": "markdown",
   "id": "85d4d030",
   "metadata": {
    "papermill": {
     "duration": 0.020822,
     "end_time": "2023-01-04T15:21:12.113245",
     "exception": false,
     "start_time": "2023-01-04T15:21:12.092423",
     "status": "completed"
    },
    "tags": []
   },
   "source": [
    "## 3.4 Fare"
   ]
  },
  {
   "cell_type": "code",
   "execution_count": null,
   "id": "2aa470cc-7016-4790-b0c3-7004f112b704",
   "metadata": {},
   "outputs": [],
   "source": []
  },
  {
   "cell_type": "code",
   "execution_count": 337,
   "id": "11b0f1f4",
   "metadata": {
    "papermill": {
     "duration": 0.040739,
     "end_time": "2023-01-04T15:21:12.174487",
     "exception": false,
     "start_time": "2023-01-04T15:21:12.133748",
     "status": "completed"
    },
    "tags": []
   },
   "outputs": [],
   "source": [
    "train['Fare'] = pd.qcut(train['Fare'], 13)"
   ]
  },
  {
   "cell_type": "code",
   "execution_count": 338,
   "id": "8a75df2e-9d01-4ec3-9044-3743610abfad",
   "metadata": {},
   "outputs": [
    {
     "data": {
      "text/html": [
       "<div>\n",
       "<style scoped>\n",
       "    .dataframe tbody tr th:only-of-type {\n",
       "        vertical-align: middle;\n",
       "    }\n",
       "\n",
       "    .dataframe tbody tr th {\n",
       "        vertical-align: top;\n",
       "    }\n",
       "\n",
       "    .dataframe thead th {\n",
       "        text-align: right;\n",
       "    }\n",
       "</style>\n",
       "<table border=\"1\" class=\"dataframe\">\n",
       "  <thead>\n",
       "    <tr style=\"text-align: right;\">\n",
       "      <th></th>\n",
       "      <th>PassengerId</th>\n",
       "      <th>Survived</th>\n",
       "      <th>Pclass</th>\n",
       "      <th>Name</th>\n",
       "      <th>Sex</th>\n",
       "      <th>Age</th>\n",
       "      <th>SibSp</th>\n",
       "      <th>Parch</th>\n",
       "      <th>Ticket</th>\n",
       "      <th>Fare</th>\n",
       "      <th>Cabin</th>\n",
       "      <th>Embarked</th>\n",
       "      <th>Deck</th>\n",
       "      <th>Title</th>\n",
       "      <th>Fam Size</th>\n",
       "      <th>Fam Size grouped</th>\n",
       "      <th>Age group</th>\n",
       "    </tr>\n",
       "  </thead>\n",
       "  <tbody>\n",
       "    <tr>\n",
       "      <th>0</th>\n",
       "      <td>1</td>\n",
       "      <td>0</td>\n",
       "      <td>3</td>\n",
       "      <td>Braund, Mr. Owen Harris</td>\n",
       "      <td>male</td>\n",
       "      <td>22.00</td>\n",
       "      <td>1</td>\n",
       "      <td>0</td>\n",
       "      <td>A/5 21171</td>\n",
       "      <td>(7.229, 7.75]</td>\n",
       "      <td>NaN</td>\n",
       "      <td>S</td>\n",
       "      <td>M</td>\n",
       "      <td>Mr</td>\n",
       "      <td>2</td>\n",
       "      <td>Small</td>\n",
       "      <td>3</td>\n",
       "    </tr>\n",
       "    <tr>\n",
       "      <th>1</th>\n",
       "      <td>2</td>\n",
       "      <td>1</td>\n",
       "      <td>1</td>\n",
       "      <td>Cumings, Mrs. John Bradley (Florence Briggs Th...</td>\n",
       "      <td>female</td>\n",
       "      <td>38.00</td>\n",
       "      <td>1</td>\n",
       "      <td>0</td>\n",
       "      <td>PC 17599</td>\n",
       "      <td>(55.9, 83.158]</td>\n",
       "      <td>C85</td>\n",
       "      <td>C</td>\n",
       "      <td>ABC</td>\n",
       "      <td>Mrs</td>\n",
       "      <td>2</td>\n",
       "      <td>Small</td>\n",
       "      <td>4</td>\n",
       "    </tr>\n",
       "    <tr>\n",
       "      <th>2</th>\n",
       "      <td>3</td>\n",
       "      <td>1</td>\n",
       "      <td>3</td>\n",
       "      <td>Heikkinen, Miss. Laina</td>\n",
       "      <td>female</td>\n",
       "      <td>26.00</td>\n",
       "      <td>0</td>\n",
       "      <td>0</td>\n",
       "      <td>STON/O2. 3101282</td>\n",
       "      <td>(7.896, 8.05]</td>\n",
       "      <td>NaN</td>\n",
       "      <td>S</td>\n",
       "      <td>M</td>\n",
       "      <td>Miss</td>\n",
       "      <td>1</td>\n",
       "      <td>Alone</td>\n",
       "      <td>3</td>\n",
       "    </tr>\n",
       "    <tr>\n",
       "      <th>3</th>\n",
       "      <td>4</td>\n",
       "      <td>1</td>\n",
       "      <td>1</td>\n",
       "      <td>Futrelle, Mrs. Jacques Heath (Lily May Peel)</td>\n",
       "      <td>female</td>\n",
       "      <td>35.00</td>\n",
       "      <td>1</td>\n",
       "      <td>0</td>\n",
       "      <td>113803</td>\n",
       "      <td>(33.308, 55.9]</td>\n",
       "      <td>C123</td>\n",
       "      <td>S</td>\n",
       "      <td>ABC</td>\n",
       "      <td>Mrs</td>\n",
       "      <td>2</td>\n",
       "      <td>Small</td>\n",
       "      <td>4</td>\n",
       "    </tr>\n",
       "    <tr>\n",
       "      <th>4</th>\n",
       "      <td>5</td>\n",
       "      <td>0</td>\n",
       "      <td>3</td>\n",
       "      <td>Allen, Mr. William Henry</td>\n",
       "      <td>male</td>\n",
       "      <td>35.00</td>\n",
       "      <td>0</td>\n",
       "      <td>0</td>\n",
       "      <td>373450</td>\n",
       "      <td>(7.896, 8.05]</td>\n",
       "      <td>NaN</td>\n",
       "      <td>S</td>\n",
       "      <td>M</td>\n",
       "      <td>Mr</td>\n",
       "      <td>1</td>\n",
       "      <td>Alone</td>\n",
       "      <td>4</td>\n",
       "    </tr>\n",
       "    <tr>\n",
       "      <th>...</th>\n",
       "      <td>...</td>\n",
       "      <td>...</td>\n",
       "      <td>...</td>\n",
       "      <td>...</td>\n",
       "      <td>...</td>\n",
       "      <td>...</td>\n",
       "      <td>...</td>\n",
       "      <td>...</td>\n",
       "      <td>...</td>\n",
       "      <td>...</td>\n",
       "      <td>...</td>\n",
       "      <td>...</td>\n",
       "      <td>...</td>\n",
       "      <td>...</td>\n",
       "      <td>...</td>\n",
       "      <td>...</td>\n",
       "      <td>...</td>\n",
       "    </tr>\n",
       "    <tr>\n",
       "      <th>886</th>\n",
       "      <td>887</td>\n",
       "      <td>0</td>\n",
       "      <td>2</td>\n",
       "      <td>Montvila, Rev. Juozas</td>\n",
       "      <td>male</td>\n",
       "      <td>27.00</td>\n",
       "      <td>0</td>\n",
       "      <td>0</td>\n",
       "      <td>211536</td>\n",
       "      <td>(10.5, 13.0]</td>\n",
       "      <td>NaN</td>\n",
       "      <td>S</td>\n",
       "      <td>M</td>\n",
       "      <td>Other</td>\n",
       "      <td>1</td>\n",
       "      <td>Alone</td>\n",
       "      <td>3</td>\n",
       "    </tr>\n",
       "    <tr>\n",
       "      <th>887</th>\n",
       "      <td>888</td>\n",
       "      <td>1</td>\n",
       "      <td>1</td>\n",
       "      <td>Graham, Miss. Margaret Edith</td>\n",
       "      <td>female</td>\n",
       "      <td>19.00</td>\n",
       "      <td>0</td>\n",
       "      <td>0</td>\n",
       "      <td>112053</td>\n",
       "      <td>(26.55, 33.308]</td>\n",
       "      <td>B42</td>\n",
       "      <td>S</td>\n",
       "      <td>ABC</td>\n",
       "      <td>Miss</td>\n",
       "      <td>1</td>\n",
       "      <td>Alone</td>\n",
       "      <td>2</td>\n",
       "    </tr>\n",
       "    <tr>\n",
       "      <th>888</th>\n",
       "      <td>889</td>\n",
       "      <td>0</td>\n",
       "      <td>3</td>\n",
       "      <td>Johnston, Miss. Catherine Helen \"Carrie\"</td>\n",
       "      <td>female</td>\n",
       "      <td>21.75</td>\n",
       "      <td>1</td>\n",
       "      <td>2</td>\n",
       "      <td>W./C. 6607</td>\n",
       "      <td>(15.85, 24.0]</td>\n",
       "      <td>NaN</td>\n",
       "      <td>S</td>\n",
       "      <td>M</td>\n",
       "      <td>Miss</td>\n",
       "      <td>4</td>\n",
       "      <td>Small</td>\n",
       "      <td>3</td>\n",
       "    </tr>\n",
       "    <tr>\n",
       "      <th>889</th>\n",
       "      <td>890</td>\n",
       "      <td>1</td>\n",
       "      <td>1</td>\n",
       "      <td>Behr, Mr. Karl Howell</td>\n",
       "      <td>male</td>\n",
       "      <td>26.00</td>\n",
       "      <td>0</td>\n",
       "      <td>0</td>\n",
       "      <td>111369</td>\n",
       "      <td>(26.55, 33.308]</td>\n",
       "      <td>C148</td>\n",
       "      <td>C</td>\n",
       "      <td>ABC</td>\n",
       "      <td>Mr</td>\n",
       "      <td>1</td>\n",
       "      <td>Alone</td>\n",
       "      <td>3</td>\n",
       "    </tr>\n",
       "    <tr>\n",
       "      <th>890</th>\n",
       "      <td>891</td>\n",
       "      <td>0</td>\n",
       "      <td>3</td>\n",
       "      <td>Dooley, Mr. Patrick</td>\n",
       "      <td>male</td>\n",
       "      <td>32.00</td>\n",
       "      <td>0</td>\n",
       "      <td>0</td>\n",
       "      <td>370376</td>\n",
       "      <td>(7.229, 7.75]</td>\n",
       "      <td>NaN</td>\n",
       "      <td>Q</td>\n",
       "      <td>M</td>\n",
       "      <td>Mr</td>\n",
       "      <td>1</td>\n",
       "      <td>Alone</td>\n",
       "      <td>4</td>\n",
       "    </tr>\n",
       "  </tbody>\n",
       "</table>\n",
       "<p>891 rows × 17 columns</p>\n",
       "</div>"
      ],
      "text/plain": [
       "     PassengerId  Survived  Pclass  \\\n",
       "0              1         0       3   \n",
       "1              2         1       1   \n",
       "2              3         1       3   \n",
       "3              4         1       1   \n",
       "4              5         0       3   \n",
       "..           ...       ...     ...   \n",
       "886          887         0       2   \n",
       "887          888         1       1   \n",
       "888          889         0       3   \n",
       "889          890         1       1   \n",
       "890          891         0       3   \n",
       "\n",
       "                                                  Name     Sex    Age  SibSp  \\\n",
       "0                              Braund, Mr. Owen Harris    male  22.00      1   \n",
       "1    Cumings, Mrs. John Bradley (Florence Briggs Th...  female  38.00      1   \n",
       "2                               Heikkinen, Miss. Laina  female  26.00      0   \n",
       "3         Futrelle, Mrs. Jacques Heath (Lily May Peel)  female  35.00      1   \n",
       "4                             Allen, Mr. William Henry    male  35.00      0   \n",
       "..                                                 ...     ...    ...    ...   \n",
       "886                              Montvila, Rev. Juozas    male  27.00      0   \n",
       "887                       Graham, Miss. Margaret Edith  female  19.00      0   \n",
       "888           Johnston, Miss. Catherine Helen \"Carrie\"  female  21.75      1   \n",
       "889                              Behr, Mr. Karl Howell    male  26.00      0   \n",
       "890                                Dooley, Mr. Patrick    male  32.00      0   \n",
       "\n",
       "     Parch            Ticket             Fare Cabin Embarked Deck  Title  \\\n",
       "0        0         A/5 21171    (7.229, 7.75]   NaN        S    M     Mr   \n",
       "1        0          PC 17599   (55.9, 83.158]   C85        C  ABC    Mrs   \n",
       "2        0  STON/O2. 3101282    (7.896, 8.05]   NaN        S    M   Miss   \n",
       "3        0            113803   (33.308, 55.9]  C123        S  ABC    Mrs   \n",
       "4        0            373450    (7.896, 8.05]   NaN        S    M     Mr   \n",
       "..     ...               ...              ...   ...      ...  ...    ...   \n",
       "886      0            211536     (10.5, 13.0]   NaN        S    M  Other   \n",
       "887      0            112053  (26.55, 33.308]   B42        S  ABC   Miss   \n",
       "888      2        W./C. 6607    (15.85, 24.0]   NaN        S    M   Miss   \n",
       "889      0            111369  (26.55, 33.308]  C148        C  ABC     Mr   \n",
       "890      0            370376    (7.229, 7.75]   NaN        Q    M     Mr   \n",
       "\n",
       "     Fam Size Fam Size grouped  Age group  \n",
       "0           2            Small          3  \n",
       "1           2            Small          4  \n",
       "2           1            Alone          3  \n",
       "3           2            Small          4  \n",
       "4           1            Alone          4  \n",
       "..        ...              ...        ...  \n",
       "886         1            Alone          3  \n",
       "887         1            Alone          2  \n",
       "888         4            Small          3  \n",
       "889         1            Alone          3  \n",
       "890         1            Alone          4  \n",
       "\n",
       "[891 rows x 17 columns]"
      ]
     },
     "execution_count": 338,
     "metadata": {},
     "output_type": "execute_result"
    }
   ],
   "source": [
    "train"
   ]
  },
  {
   "cell_type": "code",
   "execution_count": 339,
   "id": "276f5c43",
   "metadata": {
    "_kg_hide-input": true,
    "papermill": {
     "duration": 0.674256,
     "end_time": "2023-01-04T15:21:12.869254",
     "exception": false,
     "start_time": "2023-01-04T15:21:12.194998",
     "status": "completed"
    },
    "tags": []
   },
   "outputs": [
    {
     "data": {
      "image/png": "[encoded data removed]",
      "text/plain": [
       "<Figure size 1440x720 with 1 Axes>"
      ]
     },
     "metadata": {
      "needs_background": "light"
     },
     "output_type": "display_data"
    }
   ],
   "source": [
    "plt.figure(figsize = (20, 10))\n",
    "sns.countplot(x = 'Fare', data = train, hue = 'Survived').set_title(\"Fare Distribution in Train\")\n",
    "plt.show()"
   ]
  },
  {
   "cell_type": "markdown",
   "id": "93ca38f9",
   "metadata": {
    "papermill": {
     "duration": 0.021091,
     "end_time": "2023-01-04T15:21:12.911878",
     "exception": false,
     "start_time": "2023-01-04T15:21:12.890787",
     "status": "completed"
    },
    "tags": []
   },
   "source": [
    "## 4 - Data Processing\n",
    "\n",
    "* Dropping columns that are not useful\n",
    "* Label encoding\n",
    "* One hot encoding\n",
    "* Scaling \n",
    "* Data Split"
   ]
  },
  {
   "cell_type": "markdown",
   "id": "47216f86",
   "metadata": {
    "papermill": {
     "duration": 0.020978,
     "end_time": "2023-01-04T15:21:12.954123",
     "exception": false,
     "start_time": "2023-01-04T15:21:12.933145",
     "status": "completed"
    },
    "tags": []
   },
   "source": [
    "## 4.1 Dropping Unhelpful Data"
   ]
  },
  {
   "cell_type": "code",
   "execution_count": 340,
   "id": "6fdaa9fa",
   "metadata": {
    "papermill": {
     "duration": 0.032199,
     "end_time": "2023-01-04T15:21:13.007566",
     "exception": false,
     "start_time": "2023-01-04T15:21:12.975367",
     "status": "completed"
    },
    "tags": []
   },
   "outputs": [],
   "source": [
    "# dropping columns that are not helpful\n",
    "train_df = train.drop(['Name', 'PassengerId', 'Ticket','Age', 'SibSp', 'Parch', 'Cabin', 'Fam Size'], axis = 1)"
   ]
  },
  {
   "cell_type": "code",
   "execution_count": 341,
   "id": "d8e421d4",
   "metadata": {
    "papermill": {
     "duration": 0.03694,
     "end_time": "2023-01-04T15:21:13.065728",
     "exception": false,
     "start_time": "2023-01-04T15:21:13.028788",
     "status": "completed"
    },
    "tags": []
   },
   "outputs": [
    {
     "data": {
      "text/html": [
       "<div>\n",
       "<style scoped>\n",
       "    .dataframe tbody tr th:only-of-type {\n",
       "        vertical-align: middle;\n",
       "    }\n",
       "\n",
       "    .dataframe tbody tr th {\n",
       "        vertical-align: top;\n",
       "    }\n",
       "\n",
       "    .dataframe thead th {\n",
       "        text-align: right;\n",
       "    }\n",
       "</style>\n",
       "<table border=\"1\" class=\"dataframe\">\n",
       "  <thead>\n",
       "    <tr style=\"text-align: right;\">\n",
       "      <th></th>\n",
       "      <th>Survived</th>\n",
       "      <th>Pclass</th>\n",
       "      <th>Sex</th>\n",
       "      <th>Fare</th>\n",
       "      <th>Embarked</th>\n",
       "      <th>Deck</th>\n",
       "      <th>Title</th>\n",
       "      <th>Fam Size grouped</th>\n",
       "      <th>Age group</th>\n",
       "    </tr>\n",
       "  </thead>\n",
       "  <tbody>\n",
       "    <tr>\n",
       "      <th>0</th>\n",
       "      <td>0</td>\n",
       "      <td>3</td>\n",
       "      <td>male</td>\n",
       "      <td>(7.229, 7.75]</td>\n",
       "      <td>S</td>\n",
       "      <td>M</td>\n",
       "      <td>Mr</td>\n",
       "      <td>Small</td>\n",
       "      <td>3</td>\n",
       "    </tr>\n",
       "  </tbody>\n",
       "</table>\n",
       "</div>"
      ],
      "text/plain": [
       "   Survived  Pclass   Sex           Fare Embarked Deck Title Fam Size grouped  \\\n",
       "0         0       3  male  (7.229, 7.75]        S    M    Mr            Small   \n",
       "\n",
       "   Age group  \n",
       "0          3  "
      ]
     },
     "execution_count": 341,
     "metadata": {},
     "output_type": "execute_result"
    }
   ],
   "source": [
    "train_df.head(1)"
   ]
  },
  {
   "cell_type": "code",
   "execution_count": 342,
   "id": "7ad7597b",
   "metadata": {
    "papermill": {
     "duration": 0.035843,
     "end_time": "2023-01-04T15:21:13.122215",
     "exception": false,
     "start_time": "2023-01-04T15:21:13.086372",
     "status": "completed"
    },
    "tags": []
   },
   "outputs": [
    {
     "data": {
      "text/plain": [
       "Survived            0\n",
       "Pclass              0\n",
       "Sex                 0\n",
       "Fare                0\n",
       "Embarked            0\n",
       "Deck                0\n",
       "Title               0\n",
       "Fam Size grouped    0\n",
       "Age group           0\n",
       "dtype: int64"
      ]
     },
     "execution_count": 342,
     "metadata": {},
     "output_type": "execute_result"
    }
   ],
   "source": [
    "train_df.isnull().sum()"
   ]
  },
  {
   "cell_type": "markdown",
   "id": "63e55af0",
   "metadata": {
    "papermill": {
     "duration": 0.02119,
     "end_time": "2023-01-04T15:21:13.164936",
     "exception": false,
     "start_time": "2023-01-04T15:21:13.143746",
     "status": "completed"
    },
    "tags": []
   },
   "source": [
    "## 4.2 Label encoding"
   ]
  },
  {
   "cell_type": "code",
   "execution_count": null,
   "id": "83444134-1a74-4311-ae55-1d73d75cde3c",
   "metadata": {},
   "outputs": [],
   "source": []
  },
  {
   "cell_type": "code",
   "execution_count": 343,
   "id": "83a5c9b6",
   "metadata": {
    "_kg_hide-input": true,
    "papermill": {
     "duration": 0.044273,
     "end_time": "2023-01-04T15:21:13.230700",
     "exception": false,
     "start_time": "2023-01-04T15:21:13.186427",
     "status": "completed"
    },
    "tags": []
   },
   "outputs": [
    {
     "name": "stdout",
     "output_type": "stream",
     "text": [
      "Encoding for train finished!\n"
     ]
    }
   ],
   "source": [
    "from sklearn.preprocessing import OneHotEncoder, LabelEncoder, StandardScaler\n",
    "non_numeric_features = ['Embarked', 'Fare', 'Sex', 'Deck', 'Title', 'Fam Size grouped', 'Age group']\n",
    "\n",
    "for feature in non_numeric_features:        \n",
    "    train[feature] = LabelEncoder().fit_transform(train[feature])\n",
    "print('Encoding for train finished!')"
   ]
  },
  {
   "cell_type": "markdown",
   "id": "99be8cba",
   "metadata": {
    "papermill": {
     "duration": 0.020425,
     "end_time": "2023-01-04T15:21:13.272389",
     "exception": false,
     "start_time": "2023-01-04T15:21:13.251964",
     "status": "completed"
    },
    "tags": []
   },
   "source": [
    "## 4.3 One Hot Encoding"
   ]
  },
  {
   "cell_type": "code",
   "execution_count": 344,
   "id": "1ad13478",
   "metadata": {
    "papermill": {
     "duration": 0.041267,
     "end_time": "2023-01-04T15:21:13.334333",
     "exception": false,
     "start_time": "2023-01-04T15:21:13.293066",
     "status": "completed"
    },
    "tags": []
   },
   "outputs": [],
   "source": [
    "cat_features = ['Pclass', 'Sex', 'Deck', 'Embarked', 'Title', 'Fam Size grouped']\n",
    "encoded_features = []\n",
    "\n",
    "for feature in cat_features:\n",
    "    encoded_feat = OneHotEncoder().fit_transform(train_df[feature].values.reshape(-1, 1)).toarray()\n",
    "    n = train_df[feature].nunique()\n",
    "    cols = ['{}_{}'.format(feature, n) for n in range(1, n + 1)]\n",
    "    encoded_df = pd.DataFrame(encoded_feat, columns=cols)\n",
    "    encoded_df.index = train_df.index\n",
    "    encoded_features.append(encoded_df)\n",
    "    \n",
    "train_df = pd.concat([train_df, *encoded_features[:6]], axis=1)"
   ]
  },
  {
   "cell_type": "code",
   "execution_count": null,
   "id": "68391c21-8a1b-4ca7-9e65-ce3f3c6737fe",
   "metadata": {},
   "outputs": [],
   "source": []
  },
  {
   "cell_type": "code",
   "execution_count": null,
   "id": "9381f93c",
   "metadata": {
    "papermill": {
     "duration": 0.040488,
     "end_time": "2023-01-04T15:21:13.396297",
     "exception": false,
     "start_time": "2023-01-04T15:21:13.355809",
     "status": "completed"
    },
    "tags": []
   },
   "outputs": [],
   "source": []
  },
  {
   "cell_type": "code",
   "execution_count": 345,
   "id": "436fa7d5",
   "metadata": {
    "papermill": {
     "duration": 0.03375,
     "end_time": "2023-01-04T15:21:13.451827",
     "exception": false,
     "start_time": "2023-01-04T15:21:13.418077",
     "status": "completed"
    },
    "tags": []
   },
   "outputs": [],
   "source": [
    "# change dtype for Fare for scaling\n",
    "train_df['Fare'] = train_df['Fare'].apply(lambda x: x.mid).astype(float)"
   ]
  },
  {
   "cell_type": "code",
   "execution_count": 346,
   "id": "393fc088",
   "metadata": {
    "papermill": {
     "duration": 0.03409,
     "end_time": "2023-01-04T15:21:13.507956",
     "exception": false,
     "start_time": "2023-01-04T15:21:13.473866",
     "status": "completed"
    },
    "tags": []
   },
   "outputs": [],
   "source": [
    "drop_cols = ['Sex', 'Embarked', 'Deck', 'Title', 'Fam Size grouped','Pclass']\n",
    "\n",
    "train_df = train_df.drop(columns = drop_cols)"
   ]
  },
  {
   "cell_type": "markdown",
   "id": "5687048a",
   "metadata": {
    "papermill": {
     "duration": 0.022053,
     "end_time": "2023-01-04T15:21:13.552136",
     "exception": false,
     "start_time": "2023-01-04T15:21:13.530083",
     "status": "completed"
    },
    "tags": []
   },
   "source": [
    "## 4.4 Labels"
   ]
  },
  {
   "cell_type": "code",
   "execution_count": 347,
   "id": "f3a24e34",
   "metadata": {
    "papermill": {
     "duration": 0.033399,
     "end_time": "2023-01-04T15:21:13.607400",
     "exception": false,
     "start_time": "2023-01-04T15:21:13.574001",
     "status": "completed"
    },
    "tags": []
   },
   "outputs": [],
   "source": [
    "# define the labels\n",
    "X = train_df.drop(['Survived'], axis = 1)\n",
    "y = train_df['Survived'].values"
   ]
  },
  {
   "cell_type": "code",
   "execution_count": 348,
   "id": "ad3eb7a3-ee87-4576-9f99-19bb9676210e",
   "metadata": {},
   "outputs": [],
   "source": [
    "from sklearn.model_selection import train_test_split"
   ]
  },
  {
   "cell_type": "code",
   "execution_count": 349,
   "id": "471d2fc8-d563-47b0-9abe-9d83d04678b0",
   "metadata": {},
   "outputs": [],
   "source": [
    "# split the dataset\n",
    "X_train, X_test, y_train, y_test = train_test_split(\n",
    "    X, y, test_size=0.05, random_state=0)"
   ]
  },
  {
   "cell_type": "code",
   "execution_count": 350,
   "id": "02433d3f-f794-4eaa-ba7e-dddd72a79f77",
   "metadata": {},
   "outputs": [
    {
     "name": "stdout",
     "output_type": "stream",
     "text": [
      "X_train shape: (846, 23)\n",
      "y_train shape: (846,)\n"
     ]
    }
   ],
   "source": [
    "print('X_train shape: {}'.format(X_train.shape))\n",
    "print('y_train shape: {}'.format(y_train.shape))"
   ]
  },
  {
   "cell_type": "code",
   "execution_count": 351,
   "id": "5d03a477",
   "metadata": {
    "_kg_hide-input": true,
    "papermill": {
     "duration": 0.030069,
     "end_time": "2023-01-04T15:21:13.713638",
     "exception": false,
     "start_time": "2023-01-04T15:21:13.683569",
     "status": "completed"
    },
    "tags": []
   },
   "outputs": [],
   "source": [
    "# utility\n",
    "train_columns = X_train.columns"
   ]
  },
  {
   "cell_type": "markdown",
   "id": "15f32741",
   "metadata": {
    "papermill": {
     "duration": 0.021409,
     "end_time": "2023-01-04T15:21:13.756653",
     "exception": false,
     "start_time": "2023-01-04T15:21:13.735244",
     "status": "completed"
    },
    "tags": []
   },
   "source": [
    "## 4.5 Scaling"
   ]
  },
  {
   "cell_type": "code",
   "execution_count": 352,
   "id": "85f64340",
   "metadata": {
    "papermill": {
     "duration": 0.038447,
     "end_time": "2023-01-04T15:21:13.817034",
     "exception": false,
     "start_time": "2023-01-04T15:21:13.778587",
     "status": "completed"
    },
    "tags": []
   },
   "outputs": [],
   "source": [
    "# import \n",
    "from sklearn.preprocessing import StandardScaler\n",
    "\n",
    "# creating an instance of the scaler\n",
    "scaler = StandardScaler()\n",
    "\n",
    "# using .fit_transform() on the train and val data\n",
    "X_train = scaler.fit_transform(X_train)"
   ]
  },
  {
   "cell_type": "markdown",
   "id": "acc5319b",
   "metadata": {
    "papermill": {
     "duration": 0.022333,
     "end_time": "2023-01-04T15:21:13.861054",
     "exception": false,
     "start_time": "2023-01-04T15:21:13.838721",
     "status": "completed"
    },
    "tags": []
   },
   "source": [
    "## 4.6 Data Split"
   ]
  },
  {
   "cell_type": "code",
   "execution_count": 353,
   "id": "462c77a3",
   "metadata": {
    "papermill": {
     "duration": 0.031957,
     "end_time": "2023-01-04T15:21:13.914705",
     "exception": false,
     "start_time": "2023-01-04T15:21:13.882748",
     "status": "completed"
    },
    "tags": []
   },
   "outputs": [],
   "source": [
    "from sklearn.model_selection import train_test_split\n",
    "\n",
    "X_train, X_val, y_train, y_val = train_test_split(X_train, y_train, test_size = 0.2, random_state = seed_value)"
   ]
  },
  {
   "cell_type": "code",
   "execution_count": null,
   "id": "936268f8-cb63-4ef6-9af8-d294094b472e",
   "metadata": {},
   "outputs": [],
   "source": []
  },
  {
   "cell_type": "code",
   "execution_count": 354,
   "id": "a6c51cad-aa7d-4af3-930c-b3e360411fa1",
   "metadata": {},
   "outputs": [
    {
     "data": {
      "text/html": [
       "<div>\n",
       "<style scoped>\n",
       "    .dataframe tbody tr th:only-of-type {\n",
       "        vertical-align: middle;\n",
       "    }\n",
       "\n",
       "    .dataframe tbody tr th {\n",
       "        vertical-align: top;\n",
       "    }\n",
       "\n",
       "    .dataframe thead th {\n",
       "        text-align: right;\n",
       "    }\n",
       "</style>\n",
       "<table border=\"1\" class=\"dataframe\">\n",
       "  <thead>\n",
       "    <tr style=\"text-align: right;\">\n",
       "      <th></th>\n",
       "      <th>0</th>\n",
       "      <th>1</th>\n",
       "      <th>2</th>\n",
       "      <th>3</th>\n",
       "      <th>4</th>\n",
       "      <th>5</th>\n",
       "      <th>6</th>\n",
       "      <th>7</th>\n",
       "      <th>8</th>\n",
       "      <th>9</th>\n",
       "      <th>...</th>\n",
       "      <th>13</th>\n",
       "      <th>14</th>\n",
       "      <th>15</th>\n",
       "      <th>16</th>\n",
       "      <th>17</th>\n",
       "      <th>18</th>\n",
       "      <th>19</th>\n",
       "      <th>20</th>\n",
       "      <th>21</th>\n",
       "      <th>22</th>\n",
       "    </tr>\n",
       "  </thead>\n",
       "  <tbody>\n",
       "    <tr>\n",
       "      <th>0</th>\n",
       "      <td>-0.394168</td>\n",
       "      <td>1.198979</td>\n",
       "      <td>-0.561879</td>\n",
       "      <td>1.958133</td>\n",
       "      <td>-1.112697</td>\n",
       "      <td>-0.735516</td>\n",
       "      <td>0.735516</td>\n",
       "      <td>-0.390626</td>\n",
       "      <td>-0.286079</td>\n",
       "      <td>-0.143201</td>\n",
       "      <td>...</td>\n",
       "      <td>0.611046</td>\n",
       "      <td>-0.216863</td>\n",
       "      <td>-0.508850</td>\n",
       "      <td>-1.181779</td>\n",
       "      <td>-0.406558</td>\n",
       "      <td>6.267832</td>\n",
       "      <td>0.815693</td>\n",
       "      <td>-0.174501</td>\n",
       "      <td>-0.204626</td>\n",
       "      <td>-0.701472</td>\n",
       "    </tr>\n",
       "    <tr>\n",
       "      <th>1</th>\n",
       "      <td>-0.427694</td>\n",
       "      <td>-0.305971</td>\n",
       "      <td>-0.561879</td>\n",
       "      <td>-0.510690</td>\n",
       "      <td>0.898717</td>\n",
       "      <td>-0.735516</td>\n",
       "      <td>0.735516</td>\n",
       "      <td>-0.390626</td>\n",
       "      <td>-0.286079</td>\n",
       "      <td>-0.143201</td>\n",
       "      <td>...</td>\n",
       "      <td>0.611046</td>\n",
       "      <td>-0.216863</td>\n",
       "      <td>-0.508850</td>\n",
       "      <td>0.846182</td>\n",
       "      <td>-0.406558</td>\n",
       "      <td>-0.159545</td>\n",
       "      <td>0.815693</td>\n",
       "      <td>-0.174501</td>\n",
       "      <td>-0.204626</td>\n",
       "      <td>-0.701472</td>\n",
       "    </tr>\n",
       "    <tr>\n",
       "      <th>2</th>\n",
       "      <td>-0.451880</td>\n",
       "      <td>-0.305971</td>\n",
       "      <td>-0.561879</td>\n",
       "      <td>-0.510690</td>\n",
       "      <td>0.898717</td>\n",
       "      <td>-0.735516</td>\n",
       "      <td>0.735516</td>\n",
       "      <td>-0.390626</td>\n",
       "      <td>-0.286079</td>\n",
       "      <td>-0.143201</td>\n",
       "      <td>...</td>\n",
       "      <td>0.611046</td>\n",
       "      <td>-0.216863</td>\n",
       "      <td>-0.508850</td>\n",
       "      <td>0.846182</td>\n",
       "      <td>-0.406558</td>\n",
       "      <td>-0.159545</td>\n",
       "      <td>0.815693</td>\n",
       "      <td>-0.174501</td>\n",
       "      <td>-0.204626</td>\n",
       "      <td>-0.701472</td>\n",
       "    </tr>\n",
       "    <tr>\n",
       "      <th>3</th>\n",
       "      <td>0.050861</td>\n",
       "      <td>-1.810921</td>\n",
       "      <td>-0.561879</td>\n",
       "      <td>1.958133</td>\n",
       "      <td>-1.112697</td>\n",
       "      <td>-0.735516</td>\n",
       "      <td>0.735516</td>\n",
       "      <td>-0.390626</td>\n",
       "      <td>-0.286079</td>\n",
       "      <td>6.983173</td>\n",
       "      <td>...</td>\n",
       "      <td>0.611046</td>\n",
       "      <td>4.611199</td>\n",
       "      <td>-0.508850</td>\n",
       "      <td>-1.181779</td>\n",
       "      <td>-0.406558</td>\n",
       "      <td>-0.159545</td>\n",
       "      <td>-1.225952</td>\n",
       "      <td>-0.174501</td>\n",
       "      <td>-0.204626</td>\n",
       "      <td>1.425573</td>\n",
       "    </tr>\n",
       "    <tr>\n",
       "      <th>4</th>\n",
       "      <td>-0.445330</td>\n",
       "      <td>0.446504</td>\n",
       "      <td>-0.561879</td>\n",
       "      <td>-0.510690</td>\n",
       "      <td>0.898717</td>\n",
       "      <td>-0.735516</td>\n",
       "      <td>0.735516</td>\n",
       "      <td>-0.390626</td>\n",
       "      <td>-0.286079</td>\n",
       "      <td>-0.143201</td>\n",
       "      <td>...</td>\n",
       "      <td>0.611046</td>\n",
       "      <td>-0.216863</td>\n",
       "      <td>-0.508850</td>\n",
       "      <td>0.846182</td>\n",
       "      <td>-0.406558</td>\n",
       "      <td>-0.159545</td>\n",
       "      <td>0.815693</td>\n",
       "      <td>-0.174501</td>\n",
       "      <td>-0.204626</td>\n",
       "      <td>-0.701472</td>\n",
       "    </tr>\n",
       "    <tr>\n",
       "      <th>...</th>\n",
       "      <td>...</td>\n",
       "      <td>...</td>\n",
       "      <td>...</td>\n",
       "      <td>...</td>\n",
       "      <td>...</td>\n",
       "      <td>...</td>\n",
       "      <td>...</td>\n",
       "      <td>...</td>\n",
       "      <td>...</td>\n",
       "      <td>...</td>\n",
       "      <td>...</td>\n",
       "      <td>...</td>\n",
       "      <td>...</td>\n",
       "      <td>...</td>\n",
       "      <td>...</td>\n",
       "      <td>...</td>\n",
       "      <td>...</td>\n",
       "      <td>...</td>\n",
       "      <td>...</td>\n",
       "      <td>...</td>\n",
       "      <td>...</td>\n",
       "    </tr>\n",
       "    <tr>\n",
       "      <th>671</th>\n",
       "      <td>-0.357934</td>\n",
       "      <td>-0.305971</td>\n",
       "      <td>-0.561879</td>\n",
       "      <td>-0.510690</td>\n",
       "      <td>0.898717</td>\n",
       "      <td>1.359590</td>\n",
       "      <td>-1.359590</td>\n",
       "      <td>-0.390626</td>\n",
       "      <td>-0.286079</td>\n",
       "      <td>-0.143201</td>\n",
       "      <td>...</td>\n",
       "      <td>0.611046</td>\n",
       "      <td>-0.216863</td>\n",
       "      <td>-0.508850</td>\n",
       "      <td>-1.181779</td>\n",
       "      <td>2.459675</td>\n",
       "      <td>-0.159545</td>\n",
       "      <td>-1.225952</td>\n",
       "      <td>-0.174501</td>\n",
       "      <td>-0.204626</td>\n",
       "      <td>1.425573</td>\n",
       "    </tr>\n",
       "    <tr>\n",
       "      <th>672</th>\n",
       "      <td>-0.394168</td>\n",
       "      <td>-0.305971</td>\n",
       "      <td>-0.561879</td>\n",
       "      <td>-0.510690</td>\n",
       "      <td>0.898717</td>\n",
       "      <td>1.359590</td>\n",
       "      <td>-1.359590</td>\n",
       "      <td>-0.390626</td>\n",
       "      <td>-0.286079</td>\n",
       "      <td>-0.143201</td>\n",
       "      <td>...</td>\n",
       "      <td>0.611046</td>\n",
       "      <td>-0.216863</td>\n",
       "      <td>1.965215</td>\n",
       "      <td>-1.181779</td>\n",
       "      <td>-0.406558</td>\n",
       "      <td>-0.159545</td>\n",
       "      <td>0.815693</td>\n",
       "      <td>-0.174501</td>\n",
       "      <td>-0.204626</td>\n",
       "      <td>-0.701472</td>\n",
       "    </tr>\n",
       "    <tr>\n",
       "      <th>673</th>\n",
       "      <td>-0.210963</td>\n",
       "      <td>0.446504</td>\n",
       "      <td>1.779744</td>\n",
       "      <td>-0.510690</td>\n",
       "      <td>-1.112697</td>\n",
       "      <td>-0.735516</td>\n",
       "      <td>0.735516</td>\n",
       "      <td>-0.390626</td>\n",
       "      <td>3.495533</td>\n",
       "      <td>-0.143201</td>\n",
       "      <td>...</td>\n",
       "      <td>0.611046</td>\n",
       "      <td>-0.216863</td>\n",
       "      <td>-0.508850</td>\n",
       "      <td>0.846182</td>\n",
       "      <td>-0.406558</td>\n",
       "      <td>-0.159545</td>\n",
       "      <td>0.815693</td>\n",
       "      <td>-0.174501</td>\n",
       "      <td>-0.204626</td>\n",
       "      <td>-0.701472</td>\n",
       "    </tr>\n",
       "    <tr>\n",
       "      <th>674</th>\n",
       "      <td>-0.283432</td>\n",
       "      <td>0.446504</td>\n",
       "      <td>-0.561879</td>\n",
       "      <td>-0.510690</td>\n",
       "      <td>0.898717</td>\n",
       "      <td>-0.735516</td>\n",
       "      <td>0.735516</td>\n",
       "      <td>-0.390626</td>\n",
       "      <td>-0.286079</td>\n",
       "      <td>-0.143201</td>\n",
       "      <td>...</td>\n",
       "      <td>0.611046</td>\n",
       "      <td>-0.216863</td>\n",
       "      <td>-0.508850</td>\n",
       "      <td>0.846182</td>\n",
       "      <td>-0.406558</td>\n",
       "      <td>-0.159545</td>\n",
       "      <td>-1.225952</td>\n",
       "      <td>-0.174501</td>\n",
       "      <td>-0.204626</td>\n",
       "      <td>1.425573</td>\n",
       "    </tr>\n",
       "    <tr>\n",
       "      <th>675</th>\n",
       "      <td>-0.210963</td>\n",
       "      <td>1.198979</td>\n",
       "      <td>-0.561879</td>\n",
       "      <td>1.958133</td>\n",
       "      <td>-1.112697</td>\n",
       "      <td>1.359590</td>\n",
       "      <td>-1.359590</td>\n",
       "      <td>-0.390626</td>\n",
       "      <td>-0.286079</td>\n",
       "      <td>-0.143201</td>\n",
       "      <td>...</td>\n",
       "      <td>0.611046</td>\n",
       "      <td>-0.216863</td>\n",
       "      <td>-0.508850</td>\n",
       "      <td>-1.181779</td>\n",
       "      <td>2.459675</td>\n",
       "      <td>-0.159545</td>\n",
       "      <td>-1.225952</td>\n",
       "      <td>-0.174501</td>\n",
       "      <td>-0.204626</td>\n",
       "      <td>1.425573</td>\n",
       "    </tr>\n",
       "  </tbody>\n",
       "</table>\n",
       "<p>676 rows × 23 columns</p>\n",
       "</div>"
      ],
      "text/plain": [
       "           0         1         2         3         4         5         6   \\\n",
       "0   -0.394168  1.198979 -0.561879  1.958133 -1.112697 -0.735516  0.735516   \n",
       "1   -0.427694 -0.305971 -0.561879 -0.510690  0.898717 -0.735516  0.735516   \n",
       "2   -0.451880 -0.305971 -0.561879 -0.510690  0.898717 -0.735516  0.735516   \n",
       "3    0.050861 -1.810921 -0.561879  1.958133 -1.112697 -0.735516  0.735516   \n",
       "4   -0.445330  0.446504 -0.561879 -0.510690  0.898717 -0.735516  0.735516   \n",
       "..        ...       ...       ...       ...       ...       ...       ...   \n",
       "671 -0.357934 -0.305971 -0.561879 -0.510690  0.898717  1.359590 -1.359590   \n",
       "672 -0.394168 -0.305971 -0.561879 -0.510690  0.898717  1.359590 -1.359590   \n",
       "673 -0.210963  0.446504  1.779744 -0.510690 -1.112697 -0.735516  0.735516   \n",
       "674 -0.283432  0.446504 -0.561879 -0.510690  0.898717 -0.735516  0.735516   \n",
       "675 -0.210963  1.198979 -0.561879  1.958133 -1.112697  1.359590 -1.359590   \n",
       "\n",
       "           7         8         9   ...        13        14        15  \\\n",
       "0   -0.390626 -0.286079 -0.143201  ...  0.611046 -0.216863 -0.508850   \n",
       "1   -0.390626 -0.286079 -0.143201  ...  0.611046 -0.216863 -0.508850   \n",
       "2   -0.390626 -0.286079 -0.143201  ...  0.611046 -0.216863 -0.508850   \n",
       "3   -0.390626 -0.286079  6.983173  ...  0.611046  4.611199 -0.508850   \n",
       "4   -0.390626 -0.286079 -0.143201  ...  0.611046 -0.216863 -0.508850   \n",
       "..        ...       ...       ...  ...       ...       ...       ...   \n",
       "671 -0.390626 -0.286079 -0.143201  ...  0.611046 -0.216863 -0.508850   \n",
       "672 -0.390626 -0.286079 -0.143201  ...  0.611046 -0.216863  1.965215   \n",
       "673 -0.390626  3.495533 -0.143201  ...  0.611046 -0.216863 -0.508850   \n",
       "674 -0.390626 -0.286079 -0.143201  ...  0.611046 -0.216863 -0.508850   \n",
       "675 -0.390626 -0.286079 -0.143201  ...  0.611046 -0.216863 -0.508850   \n",
       "\n",
       "           16        17        18        19        20        21        22  \n",
       "0   -1.181779 -0.406558  6.267832  0.815693 -0.174501 -0.204626 -0.701472  \n",
       "1    0.846182 -0.406558 -0.159545  0.815693 -0.174501 -0.204626 -0.701472  \n",
       "2    0.846182 -0.406558 -0.159545  0.815693 -0.174501 -0.204626 -0.701472  \n",
       "3   -1.181779 -0.406558 -0.159545 -1.225952 -0.174501 -0.204626  1.425573  \n",
       "4    0.846182 -0.406558 -0.159545  0.815693 -0.174501 -0.204626 -0.701472  \n",
       "..        ...       ...       ...       ...       ...       ...       ...  \n",
       "671 -1.181779  2.459675 -0.159545 -1.225952 -0.174501 -0.204626  1.425573  \n",
       "672 -1.181779 -0.406558 -0.159545  0.815693 -0.174501 -0.204626 -0.701472  \n",
       "673  0.846182 -0.406558 -0.159545  0.815693 -0.174501 -0.204626 -0.701472  \n",
       "674  0.846182 -0.406558 -0.159545 -1.225952 -0.174501 -0.204626  1.425573  \n",
       "675 -1.181779  2.459675 -0.159545 -1.225952 -0.174501 -0.204626  1.425573  \n",
       "\n",
       "[676 rows x 23 columns]"
      ]
     },
     "execution_count": 354,
     "metadata": {},
     "output_type": "execute_result"
    }
   ],
   "source": [
    "pd.DataFrame(X_train)"
   ]
  },
  {
   "cell_type": "code",
   "execution_count": 355,
   "id": "fc689c28-f484-4da3-87d7-c060c4db9cd1",
   "metadata": {},
   "outputs": [
    {
     "data": {
      "text/html": [
       "<div>\n",
       "<style scoped>\n",
       "    .dataframe tbody tr th:only-of-type {\n",
       "        vertical-align: middle;\n",
       "    }\n",
       "\n",
       "    .dataframe tbody tr th {\n",
       "        vertical-align: top;\n",
       "    }\n",
       "\n",
       "    .dataframe thead th {\n",
       "        text-align: right;\n",
       "    }\n",
       "</style>\n",
       "<table border=\"1\" class=\"dataframe\">\n",
       "  <thead>\n",
       "    <tr style=\"text-align: right;\">\n",
       "      <th></th>\n",
       "      <th>Fare</th>\n",
       "      <th>Age group</th>\n",
       "      <th>Pclass_1</th>\n",
       "      <th>Pclass_2</th>\n",
       "      <th>Pclass_3</th>\n",
       "      <th>Sex_1</th>\n",
       "      <th>Sex_2</th>\n",
       "      <th>Deck_1</th>\n",
       "      <th>Deck_2</th>\n",
       "      <th>Deck_3</th>\n",
       "      <th>...</th>\n",
       "      <th>Embarked_3</th>\n",
       "      <th>Title_1</th>\n",
       "      <th>Title_2</th>\n",
       "      <th>Title_3</th>\n",
       "      <th>Title_4</th>\n",
       "      <th>Title_5</th>\n",
       "      <th>Fam Size grouped_1</th>\n",
       "      <th>Fam Size grouped_2</th>\n",
       "      <th>Fam Size grouped_3</th>\n",
       "      <th>Fam Size grouped_4</th>\n",
       "    </tr>\n",
       "  </thead>\n",
       "  <tbody>\n",
       "    <tr>\n",
       "      <th>495</th>\n",
       "      <td>14.4250</td>\n",
       "      <td>3</td>\n",
       "      <td>0.0</td>\n",
       "      <td>0.0</td>\n",
       "      <td>1.0</td>\n",
       "      <td>0.0</td>\n",
       "      <td>1.0</td>\n",
       "      <td>0.0</td>\n",
       "      <td>0.0</td>\n",
       "      <td>0.0</td>\n",
       "      <td>...</td>\n",
       "      <td>0.0</td>\n",
       "      <td>0.0</td>\n",
       "      <td>0.0</td>\n",
       "      <td>1.0</td>\n",
       "      <td>0.0</td>\n",
       "      <td>0.0</td>\n",
       "      <td>1.0</td>\n",
       "      <td>0.0</td>\n",
       "      <td>0.0</td>\n",
       "      <td>0.0</td>\n",
       "    </tr>\n",
       "    <tr>\n",
       "      <th>648</th>\n",
       "      <td>7.4895</td>\n",
       "      <td>3</td>\n",
       "      <td>0.0</td>\n",
       "      <td>0.0</td>\n",
       "      <td>1.0</td>\n",
       "      <td>0.0</td>\n",
       "      <td>1.0</td>\n",
       "      <td>0.0</td>\n",
       "      <td>0.0</td>\n",
       "      <td>0.0</td>\n",
       "      <td>...</td>\n",
       "      <td>1.0</td>\n",
       "      <td>0.0</td>\n",
       "      <td>0.0</td>\n",
       "      <td>1.0</td>\n",
       "      <td>0.0</td>\n",
       "      <td>0.0</td>\n",
       "      <td>1.0</td>\n",
       "      <td>0.0</td>\n",
       "      <td>0.0</td>\n",
       "      <td>0.0</td>\n",
       "    </tr>\n",
       "    <tr>\n",
       "      <th>278</th>\n",
       "      <td>29.9290</td>\n",
       "      <td>1</td>\n",
       "      <td>0.0</td>\n",
       "      <td>0.0</td>\n",
       "      <td>1.0</td>\n",
       "      <td>0.0</td>\n",
       "      <td>1.0</td>\n",
       "      <td>0.0</td>\n",
       "      <td>0.0</td>\n",
       "      <td>0.0</td>\n",
       "      <td>...</td>\n",
       "      <td>0.0</td>\n",
       "      <td>1.0</td>\n",
       "      <td>0.0</td>\n",
       "      <td>0.0</td>\n",
       "      <td>0.0</td>\n",
       "      <td>0.0</td>\n",
       "      <td>0.0</td>\n",
       "      <td>0.0</td>\n",
       "      <td>1.0</td>\n",
       "      <td>0.0</td>\n",
       "    </tr>\n",
       "    <tr>\n",
       "      <th>31</th>\n",
       "      <td>297.7435</td>\n",
       "      <td>4</td>\n",
       "      <td>1.0</td>\n",
       "      <td>0.0</td>\n",
       "      <td>0.0</td>\n",
       "      <td>1.0</td>\n",
       "      <td>0.0</td>\n",
       "      <td>1.0</td>\n",
       "      <td>0.0</td>\n",
       "      <td>0.0</td>\n",
       "      <td>...</td>\n",
       "      <td>0.0</td>\n",
       "      <td>0.0</td>\n",
       "      <td>0.0</td>\n",
       "      <td>0.0</td>\n",
       "      <td>1.0</td>\n",
       "      <td>0.0</td>\n",
       "      <td>0.0</td>\n",
       "      <td>0.0</td>\n",
       "      <td>0.0</td>\n",
       "      <td>1.0</td>\n",
       "    </tr>\n",
       "    <tr>\n",
       "      <th>255</th>\n",
       "      <td>14.4250</td>\n",
       "      <td>3</td>\n",
       "      <td>0.0</td>\n",
       "      <td>0.0</td>\n",
       "      <td>1.0</td>\n",
       "      <td>1.0</td>\n",
       "      <td>0.0</td>\n",
       "      <td>0.0</td>\n",
       "      <td>0.0</td>\n",
       "      <td>0.0</td>\n",
       "      <td>...</td>\n",
       "      <td>0.0</td>\n",
       "      <td>0.0</td>\n",
       "      <td>0.0</td>\n",
       "      <td>0.0</td>\n",
       "      <td>1.0</td>\n",
       "      <td>0.0</td>\n",
       "      <td>0.0</td>\n",
       "      <td>0.0</td>\n",
       "      <td>0.0</td>\n",
       "      <td>1.0</td>\n",
       "    </tr>\n",
       "    <tr>\n",
       "      <th>298</th>\n",
       "      <td>29.9290</td>\n",
       "      <td>5</td>\n",
       "      <td>1.0</td>\n",
       "      <td>0.0</td>\n",
       "      <td>0.0</td>\n",
       "      <td>0.0</td>\n",
       "      <td>1.0</td>\n",
       "      <td>1.0</td>\n",
       "      <td>0.0</td>\n",
       "      <td>0.0</td>\n",
       "      <td>...</td>\n",
       "      <td>1.0</td>\n",
       "      <td>0.0</td>\n",
       "      <td>0.0</td>\n",
       "      <td>1.0</td>\n",
       "      <td>0.0</td>\n",
       "      <td>0.0</td>\n",
       "      <td>1.0</td>\n",
       "      <td>0.0</td>\n",
       "      <td>0.0</td>\n",
       "      <td>0.0</td>\n",
       "    </tr>\n",
       "    <tr>\n",
       "      <th>609</th>\n",
       "      <td>297.7435</td>\n",
       "      <td>4</td>\n",
       "      <td>1.0</td>\n",
       "      <td>0.0</td>\n",
       "      <td>0.0</td>\n",
       "      <td>1.0</td>\n",
       "      <td>0.0</td>\n",
       "      <td>1.0</td>\n",
       "      <td>0.0</td>\n",
       "      <td>0.0</td>\n",
       "      <td>...</td>\n",
       "      <td>1.0</td>\n",
       "      <td>0.0</td>\n",
       "      <td>1.0</td>\n",
       "      <td>0.0</td>\n",
       "      <td>0.0</td>\n",
       "      <td>0.0</td>\n",
       "      <td>1.0</td>\n",
       "      <td>0.0</td>\n",
       "      <td>0.0</td>\n",
       "      <td>0.0</td>\n",
       "    </tr>\n",
       "    <tr>\n",
       "      <th>318</th>\n",
       "      <td>297.7435</td>\n",
       "      <td>4</td>\n",
       "      <td>1.0</td>\n",
       "      <td>0.0</td>\n",
       "      <td>0.0</td>\n",
       "      <td>1.0</td>\n",
       "      <td>0.0</td>\n",
       "      <td>1.0</td>\n",
       "      <td>0.0</td>\n",
       "      <td>0.0</td>\n",
       "      <td>...</td>\n",
       "      <td>1.0</td>\n",
       "      <td>0.0</td>\n",
       "      <td>1.0</td>\n",
       "      <td>0.0</td>\n",
       "      <td>0.0</td>\n",
       "      <td>0.0</td>\n",
       "      <td>0.0</td>\n",
       "      <td>0.0</td>\n",
       "      <td>0.0</td>\n",
       "      <td>1.0</td>\n",
       "    </tr>\n",
       "    <tr>\n",
       "      <th>484</th>\n",
       "      <td>297.7435</td>\n",
       "      <td>3</td>\n",
       "      <td>1.0</td>\n",
       "      <td>0.0</td>\n",
       "      <td>0.0</td>\n",
       "      <td>0.0</td>\n",
       "      <td>1.0</td>\n",
       "      <td>1.0</td>\n",
       "      <td>0.0</td>\n",
       "      <td>0.0</td>\n",
       "      <td>...</td>\n",
       "      <td>0.0</td>\n",
       "      <td>0.0</td>\n",
       "      <td>0.0</td>\n",
       "      <td>1.0</td>\n",
       "      <td>0.0</td>\n",
       "      <td>0.0</td>\n",
       "      <td>0.0</td>\n",
       "      <td>0.0</td>\n",
       "      <td>0.0</td>\n",
       "      <td>1.0</td>\n",
       "    </tr>\n",
       "    <tr>\n",
       "      <th>367</th>\n",
       "      <td>3.6140</td>\n",
       "      <td>3</td>\n",
       "      <td>0.0</td>\n",
       "      <td>0.0</td>\n",
       "      <td>1.0</td>\n",
       "      <td>1.0</td>\n",
       "      <td>0.0</td>\n",
       "      <td>0.0</td>\n",
       "      <td>0.0</td>\n",
       "      <td>0.0</td>\n",
       "      <td>...</td>\n",
       "      <td>0.0</td>\n",
       "      <td>0.0</td>\n",
       "      <td>0.0</td>\n",
       "      <td>0.0</td>\n",
       "      <td>1.0</td>\n",
       "      <td>0.0</td>\n",
       "      <td>1.0</td>\n",
       "      <td>0.0</td>\n",
       "      <td>0.0</td>\n",
       "      <td>0.0</td>\n",
       "    </tr>\n",
       "    <tr>\n",
       "      <th>704</th>\n",
       "      <td>7.8230</td>\n",
       "      <td>3</td>\n",
       "      <td>0.0</td>\n",
       "      <td>0.0</td>\n",
       "      <td>1.0</td>\n",
       "      <td>0.0</td>\n",
       "      <td>1.0</td>\n",
       "      <td>0.0</td>\n",
       "      <td>0.0</td>\n",
       "      <td>0.0</td>\n",
       "      <td>...</td>\n",
       "      <td>1.0</td>\n",
       "      <td>0.0</td>\n",
       "      <td>0.0</td>\n",
       "      <td>1.0</td>\n",
       "      <td>0.0</td>\n",
       "      <td>0.0</td>\n",
       "      <td>0.0</td>\n",
       "      <td>0.0</td>\n",
       "      <td>0.0</td>\n",
       "      <td>1.0</td>\n",
       "    </tr>\n",
       "    <tr>\n",
       "      <th>346</th>\n",
       "      <td>11.7500</td>\n",
       "      <td>4</td>\n",
       "      <td>0.0</td>\n",
       "      <td>1.0</td>\n",
       "      <td>0.0</td>\n",
       "      <td>1.0</td>\n",
       "      <td>0.0</td>\n",
       "      <td>0.0</td>\n",
       "      <td>0.0</td>\n",
       "      <td>0.0</td>\n",
       "      <td>...</td>\n",
       "      <td>1.0</td>\n",
       "      <td>0.0</td>\n",
       "      <td>1.0</td>\n",
       "      <td>0.0</td>\n",
       "      <td>0.0</td>\n",
       "      <td>0.0</td>\n",
       "      <td>1.0</td>\n",
       "      <td>0.0</td>\n",
       "      <td>0.0</td>\n",
       "      <td>0.0</td>\n",
       "    </tr>\n",
       "    <tr>\n",
       "      <th>196</th>\n",
       "      <td>7.4895</td>\n",
       "      <td>3</td>\n",
       "      <td>0.0</td>\n",
       "      <td>0.0</td>\n",
       "      <td>1.0</td>\n",
       "      <td>0.0</td>\n",
       "      <td>1.0</td>\n",
       "      <td>0.0</td>\n",
       "      <td>0.0</td>\n",
       "      <td>0.0</td>\n",
       "      <td>...</td>\n",
       "      <td>0.0</td>\n",
       "      <td>0.0</td>\n",
       "      <td>0.0</td>\n",
       "      <td>1.0</td>\n",
       "      <td>0.0</td>\n",
       "      <td>0.0</td>\n",
       "      <td>1.0</td>\n",
       "      <td>0.0</td>\n",
       "      <td>0.0</td>\n",
       "      <td>0.0</td>\n",
       "    </tr>\n",
       "    <tr>\n",
       "      <th>535</th>\n",
       "      <td>25.2750</td>\n",
       "      <td>1</td>\n",
       "      <td>0.0</td>\n",
       "      <td>1.0</td>\n",
       "      <td>0.0</td>\n",
       "      <td>1.0</td>\n",
       "      <td>0.0</td>\n",
       "      <td>0.0</td>\n",
       "      <td>0.0</td>\n",
       "      <td>0.0</td>\n",
       "      <td>...</td>\n",
       "      <td>1.0</td>\n",
       "      <td>0.0</td>\n",
       "      <td>1.0</td>\n",
       "      <td>0.0</td>\n",
       "      <td>0.0</td>\n",
       "      <td>0.0</td>\n",
       "      <td>0.0</td>\n",
       "      <td>0.0</td>\n",
       "      <td>0.0</td>\n",
       "      <td>1.0</td>\n",
       "    </tr>\n",
       "    <tr>\n",
       "      <th>310</th>\n",
       "      <td>69.5290</td>\n",
       "      <td>3</td>\n",
       "      <td>1.0</td>\n",
       "      <td>0.0</td>\n",
       "      <td>0.0</td>\n",
       "      <td>1.0</td>\n",
       "      <td>0.0</td>\n",
       "      <td>1.0</td>\n",
       "      <td>0.0</td>\n",
       "      <td>0.0</td>\n",
       "      <td>...</td>\n",
       "      <td>0.0</td>\n",
       "      <td>0.0</td>\n",
       "      <td>1.0</td>\n",
       "      <td>0.0</td>\n",
       "      <td>0.0</td>\n",
       "      <td>0.0</td>\n",
       "      <td>1.0</td>\n",
       "      <td>0.0</td>\n",
       "      <td>0.0</td>\n",
       "      <td>0.0</td>\n",
       "    </tr>\n",
       "    <tr>\n",
       "      <th>14</th>\n",
       "      <td>7.8230</td>\n",
       "      <td>2</td>\n",
       "      <td>0.0</td>\n",
       "      <td>0.0</td>\n",
       "      <td>1.0</td>\n",
       "      <td>1.0</td>\n",
       "      <td>0.0</td>\n",
       "      <td>0.0</td>\n",
       "      <td>0.0</td>\n",
       "      <td>0.0</td>\n",
       "      <td>...</td>\n",
       "      <td>1.0</td>\n",
       "      <td>0.0</td>\n",
       "      <td>1.0</td>\n",
       "      <td>0.0</td>\n",
       "      <td>0.0</td>\n",
       "      <td>0.0</td>\n",
       "      <td>1.0</td>\n",
       "      <td>0.0</td>\n",
       "      <td>0.0</td>\n",
       "      <td>0.0</td>\n",
       "    </tr>\n",
       "    <tr>\n",
       "      <th>350</th>\n",
       "      <td>9.2750</td>\n",
       "      <td>3</td>\n",
       "      <td>0.0</td>\n",
       "      <td>0.0</td>\n",
       "      <td>1.0</td>\n",
       "      <td>0.0</td>\n",
       "      <td>1.0</td>\n",
       "      <td>0.0</td>\n",
       "      <td>0.0</td>\n",
       "      <td>0.0</td>\n",
       "      <td>...</td>\n",
       "      <td>1.0</td>\n",
       "      <td>0.0</td>\n",
       "      <td>0.0</td>\n",
       "      <td>1.0</td>\n",
       "      <td>0.0</td>\n",
       "      <td>0.0</td>\n",
       "      <td>1.0</td>\n",
       "      <td>0.0</td>\n",
       "      <td>0.0</td>\n",
       "      <td>0.0</td>\n",
       "    </tr>\n",
       "    <tr>\n",
       "      <th>145</th>\n",
       "      <td>44.6040</td>\n",
       "      <td>2</td>\n",
       "      <td>0.0</td>\n",
       "      <td>1.0</td>\n",
       "      <td>0.0</td>\n",
       "      <td>0.0</td>\n",
       "      <td>1.0</td>\n",
       "      <td>0.0</td>\n",
       "      <td>0.0</td>\n",
       "      <td>0.0</td>\n",
       "      <td>...</td>\n",
       "      <td>1.0</td>\n",
       "      <td>0.0</td>\n",
       "      <td>0.0</td>\n",
       "      <td>1.0</td>\n",
       "      <td>0.0</td>\n",
       "      <td>0.0</td>\n",
       "      <td>0.0</td>\n",
       "      <td>0.0</td>\n",
       "      <td>0.0</td>\n",
       "      <td>1.0</td>\n",
       "    </tr>\n",
       "    <tr>\n",
       "      <th>614</th>\n",
       "      <td>7.9730</td>\n",
       "      <td>4</td>\n",
       "      <td>0.0</td>\n",
       "      <td>0.0</td>\n",
       "      <td>1.0</td>\n",
       "      <td>0.0</td>\n",
       "      <td>1.0</td>\n",
       "      <td>0.0</td>\n",
       "      <td>0.0</td>\n",
       "      <td>0.0</td>\n",
       "      <td>...</td>\n",
       "      <td>1.0</td>\n",
       "      <td>0.0</td>\n",
       "      <td>0.0</td>\n",
       "      <td>1.0</td>\n",
       "      <td>0.0</td>\n",
       "      <td>0.0</td>\n",
       "      <td>1.0</td>\n",
       "      <td>0.0</td>\n",
       "      <td>0.0</td>\n",
       "      <td>0.0</td>\n",
       "    </tr>\n",
       "    <tr>\n",
       "      <th>803</th>\n",
       "      <td>9.2750</td>\n",
       "      <td>1</td>\n",
       "      <td>0.0</td>\n",
       "      <td>0.0</td>\n",
       "      <td>1.0</td>\n",
       "      <td>0.0</td>\n",
       "      <td>1.0</td>\n",
       "      <td>0.0</td>\n",
       "      <td>0.0</td>\n",
       "      <td>0.0</td>\n",
       "      <td>...</td>\n",
       "      <td>0.0</td>\n",
       "      <td>1.0</td>\n",
       "      <td>0.0</td>\n",
       "      <td>0.0</td>\n",
       "      <td>0.0</td>\n",
       "      <td>0.0</td>\n",
       "      <td>0.0</td>\n",
       "      <td>0.0</td>\n",
       "      <td>0.0</td>\n",
       "      <td>1.0</td>\n",
       "    </tr>\n",
       "    <tr>\n",
       "      <th>144</th>\n",
       "      <td>11.7500</td>\n",
       "      <td>2</td>\n",
       "      <td>0.0</td>\n",
       "      <td>1.0</td>\n",
       "      <td>0.0</td>\n",
       "      <td>0.0</td>\n",
       "      <td>1.0</td>\n",
       "      <td>0.0</td>\n",
       "      <td>0.0</td>\n",
       "      <td>0.0</td>\n",
       "      <td>...</td>\n",
       "      <td>1.0</td>\n",
       "      <td>0.0</td>\n",
       "      <td>0.0</td>\n",
       "      <td>1.0</td>\n",
       "      <td>0.0</td>\n",
       "      <td>0.0</td>\n",
       "      <td>1.0</td>\n",
       "      <td>0.0</td>\n",
       "      <td>0.0</td>\n",
       "      <td>0.0</td>\n",
       "    </tr>\n",
       "    <tr>\n",
       "      <th>708</th>\n",
       "      <td>297.7435</td>\n",
       "      <td>3</td>\n",
       "      <td>1.0</td>\n",
       "      <td>0.0</td>\n",
       "      <td>0.0</td>\n",
       "      <td>1.0</td>\n",
       "      <td>0.0</td>\n",
       "      <td>0.0</td>\n",
       "      <td>0.0</td>\n",
       "      <td>0.0</td>\n",
       "      <td>...</td>\n",
       "      <td>1.0</td>\n",
       "      <td>0.0</td>\n",
       "      <td>1.0</td>\n",
       "      <td>0.0</td>\n",
       "      <td>0.0</td>\n",
       "      <td>0.0</td>\n",
       "      <td>1.0</td>\n",
       "      <td>0.0</td>\n",
       "      <td>0.0</td>\n",
       "      <td>0.0</td>\n",
       "    </tr>\n",
       "    <tr>\n",
       "      <th>778</th>\n",
       "      <td>7.4895</td>\n",
       "      <td>3</td>\n",
       "      <td>0.0</td>\n",
       "      <td>0.0</td>\n",
       "      <td>1.0</td>\n",
       "      <td>0.0</td>\n",
       "      <td>1.0</td>\n",
       "      <td>0.0</td>\n",
       "      <td>0.0</td>\n",
       "      <td>0.0</td>\n",
       "      <td>...</td>\n",
       "      <td>0.0</td>\n",
       "      <td>0.0</td>\n",
       "      <td>0.0</td>\n",
       "      <td>1.0</td>\n",
       "      <td>0.0</td>\n",
       "      <td>0.0</td>\n",
       "      <td>1.0</td>\n",
       "      <td>0.0</td>\n",
       "      <td>0.0</td>\n",
       "      <td>0.0</td>\n",
       "    </tr>\n",
       "    <tr>\n",
       "      <th>270</th>\n",
       "      <td>29.9290</td>\n",
       "      <td>5</td>\n",
       "      <td>1.0</td>\n",
       "      <td>0.0</td>\n",
       "      <td>0.0</td>\n",
       "      <td>0.0</td>\n",
       "      <td>1.0</td>\n",
       "      <td>0.0</td>\n",
       "      <td>0.0</td>\n",
       "      <td>0.0</td>\n",
       "      <td>...</td>\n",
       "      <td>1.0</td>\n",
       "      <td>0.0</td>\n",
       "      <td>0.0</td>\n",
       "      <td>1.0</td>\n",
       "      <td>0.0</td>\n",
       "      <td>0.0</td>\n",
       "      <td>1.0</td>\n",
       "      <td>0.0</td>\n",
       "      <td>0.0</td>\n",
       "      <td>0.0</td>\n",
       "    </tr>\n",
       "    <tr>\n",
       "      <th>474</th>\n",
       "      <td>9.2750</td>\n",
       "      <td>3</td>\n",
       "      <td>0.0</td>\n",
       "      <td>0.0</td>\n",
       "      <td>1.0</td>\n",
       "      <td>1.0</td>\n",
       "      <td>0.0</td>\n",
       "      <td>0.0</td>\n",
       "      <td>0.0</td>\n",
       "      <td>0.0</td>\n",
       "      <td>...</td>\n",
       "      <td>1.0</td>\n",
       "      <td>0.0</td>\n",
       "      <td>1.0</td>\n",
       "      <td>0.0</td>\n",
       "      <td>0.0</td>\n",
       "      <td>0.0</td>\n",
       "      <td>1.0</td>\n",
       "      <td>0.0</td>\n",
       "      <td>0.0</td>\n",
       "      <td>0.0</td>\n",
       "    </tr>\n",
       "    <tr>\n",
       "      <th>319</th>\n",
       "      <td>297.7435</td>\n",
       "      <td>4</td>\n",
       "      <td>1.0</td>\n",
       "      <td>0.0</td>\n",
       "      <td>0.0</td>\n",
       "      <td>1.0</td>\n",
       "      <td>0.0</td>\n",
       "      <td>0.0</td>\n",
       "      <td>1.0</td>\n",
       "      <td>0.0</td>\n",
       "      <td>...</td>\n",
       "      <td>0.0</td>\n",
       "      <td>0.0</td>\n",
       "      <td>0.0</td>\n",
       "      <td>0.0</td>\n",
       "      <td>1.0</td>\n",
       "      <td>0.0</td>\n",
       "      <td>0.0</td>\n",
       "      <td>0.0</td>\n",
       "      <td>0.0</td>\n",
       "      <td>1.0</td>\n",
       "    </tr>\n",
       "    <tr>\n",
       "      <th>519</th>\n",
       "      <td>7.8230</td>\n",
       "      <td>4</td>\n",
       "      <td>0.0</td>\n",
       "      <td>0.0</td>\n",
       "      <td>1.0</td>\n",
       "      <td>0.0</td>\n",
       "      <td>1.0</td>\n",
       "      <td>0.0</td>\n",
       "      <td>0.0</td>\n",
       "      <td>0.0</td>\n",
       "      <td>...</td>\n",
       "      <td>1.0</td>\n",
       "      <td>0.0</td>\n",
       "      <td>0.0</td>\n",
       "      <td>1.0</td>\n",
       "      <td>0.0</td>\n",
       "      <td>0.0</td>\n",
       "      <td>1.0</td>\n",
       "      <td>0.0</td>\n",
       "      <td>0.0</td>\n",
       "      <td>0.0</td>\n",
       "    </tr>\n",
       "    <tr>\n",
       "      <th>141</th>\n",
       "      <td>7.4895</td>\n",
       "      <td>3</td>\n",
       "      <td>0.0</td>\n",
       "      <td>0.0</td>\n",
       "      <td>1.0</td>\n",
       "      <td>1.0</td>\n",
       "      <td>0.0</td>\n",
       "      <td>0.0</td>\n",
       "      <td>0.0</td>\n",
       "      <td>0.0</td>\n",
       "      <td>...</td>\n",
       "      <td>1.0</td>\n",
       "      <td>0.0</td>\n",
       "      <td>1.0</td>\n",
       "      <td>0.0</td>\n",
       "      <td>0.0</td>\n",
       "      <td>0.0</td>\n",
       "      <td>1.0</td>\n",
       "      <td>0.0</td>\n",
       "      <td>0.0</td>\n",
       "      <td>0.0</td>\n",
       "    </tr>\n",
       "    <tr>\n",
       "      <th>880</th>\n",
       "      <td>25.2750</td>\n",
       "      <td>3</td>\n",
       "      <td>0.0</td>\n",
       "      <td>1.0</td>\n",
       "      <td>0.0</td>\n",
       "      <td>1.0</td>\n",
       "      <td>0.0</td>\n",
       "      <td>0.0</td>\n",
       "      <td>0.0</td>\n",
       "      <td>0.0</td>\n",
       "      <td>...</td>\n",
       "      <td>1.0</td>\n",
       "      <td>0.0</td>\n",
       "      <td>0.0</td>\n",
       "      <td>0.0</td>\n",
       "      <td>1.0</td>\n",
       "      <td>0.0</td>\n",
       "      <td>0.0</td>\n",
       "      <td>0.0</td>\n",
       "      <td>0.0</td>\n",
       "      <td>1.0</td>\n",
       "    </tr>\n",
       "    <tr>\n",
       "      <th>642</th>\n",
       "      <td>29.9290</td>\n",
       "      <td>1</td>\n",
       "      <td>0.0</td>\n",
       "      <td>0.0</td>\n",
       "      <td>1.0</td>\n",
       "      <td>1.0</td>\n",
       "      <td>0.0</td>\n",
       "      <td>0.0</td>\n",
       "      <td>0.0</td>\n",
       "      <td>0.0</td>\n",
       "      <td>...</td>\n",
       "      <td>1.0</td>\n",
       "      <td>0.0</td>\n",
       "      <td>1.0</td>\n",
       "      <td>0.0</td>\n",
       "      <td>0.0</td>\n",
       "      <td>0.0</td>\n",
       "      <td>0.0</td>\n",
       "      <td>0.0</td>\n",
       "      <td>1.0</td>\n",
       "      <td>0.0</td>\n",
       "    </tr>\n",
       "    <tr>\n",
       "      <th>285</th>\n",
       "      <td>9.2750</td>\n",
       "      <td>4</td>\n",
       "      <td>0.0</td>\n",
       "      <td>0.0</td>\n",
       "      <td>1.0</td>\n",
       "      <td>0.0</td>\n",
       "      <td>1.0</td>\n",
       "      <td>0.0</td>\n",
       "      <td>0.0</td>\n",
       "      <td>0.0</td>\n",
       "      <td>...</td>\n",
       "      <td>0.0</td>\n",
       "      <td>0.0</td>\n",
       "      <td>0.0</td>\n",
       "      <td>1.0</td>\n",
       "      <td>0.0</td>\n",
       "      <td>0.0</td>\n",
       "      <td>1.0</td>\n",
       "      <td>0.0</td>\n",
       "      <td>0.0</td>\n",
       "      <td>0.0</td>\n",
       "    </tr>\n",
       "    <tr>\n",
       "      <th>458</th>\n",
       "      <td>9.2750</td>\n",
       "      <td>5</td>\n",
       "      <td>0.0</td>\n",
       "      <td>1.0</td>\n",
       "      <td>0.0</td>\n",
       "      <td>1.0</td>\n",
       "      <td>0.0</td>\n",
       "      <td>0.0</td>\n",
       "      <td>0.0</td>\n",
       "      <td>0.0</td>\n",
       "      <td>...</td>\n",
       "      <td>1.0</td>\n",
       "      <td>0.0</td>\n",
       "      <td>1.0</td>\n",
       "      <td>0.0</td>\n",
       "      <td>0.0</td>\n",
       "      <td>0.0</td>\n",
       "      <td>1.0</td>\n",
       "      <td>0.0</td>\n",
       "      <td>0.0</td>\n",
       "      <td>0.0</td>\n",
       "    </tr>\n",
       "    <tr>\n",
       "      <th>200</th>\n",
       "      <td>9.2750</td>\n",
       "      <td>3</td>\n",
       "      <td>0.0</td>\n",
       "      <td>0.0</td>\n",
       "      <td>1.0</td>\n",
       "      <td>0.0</td>\n",
       "      <td>1.0</td>\n",
       "      <td>0.0</td>\n",
       "      <td>0.0</td>\n",
       "      <td>0.0</td>\n",
       "      <td>...</td>\n",
       "      <td>1.0</td>\n",
       "      <td>0.0</td>\n",
       "      <td>0.0</td>\n",
       "      <td>1.0</td>\n",
       "      <td>0.0</td>\n",
       "      <td>0.0</td>\n",
       "      <td>1.0</td>\n",
       "      <td>0.0</td>\n",
       "      <td>0.0</td>\n",
       "      <td>0.0</td>\n",
       "    </tr>\n",
       "    <tr>\n",
       "      <th>55</th>\n",
       "      <td>44.6040</td>\n",
       "      <td>5</td>\n",
       "      <td>1.0</td>\n",
       "      <td>0.0</td>\n",
       "      <td>0.0</td>\n",
       "      <td>0.0</td>\n",
       "      <td>1.0</td>\n",
       "      <td>1.0</td>\n",
       "      <td>0.0</td>\n",
       "      <td>0.0</td>\n",
       "      <td>...</td>\n",
       "      <td>1.0</td>\n",
       "      <td>0.0</td>\n",
       "      <td>0.0</td>\n",
       "      <td>1.0</td>\n",
       "      <td>0.0</td>\n",
       "      <td>0.0</td>\n",
       "      <td>1.0</td>\n",
       "      <td>0.0</td>\n",
       "      <td>0.0</td>\n",
       "      <td>0.0</td>\n",
       "    </tr>\n",
       "    <tr>\n",
       "      <th>477</th>\n",
       "      <td>3.6140</td>\n",
       "      <td>3</td>\n",
       "      <td>0.0</td>\n",
       "      <td>0.0</td>\n",
       "      <td>1.0</td>\n",
       "      <td>0.0</td>\n",
       "      <td>1.0</td>\n",
       "      <td>0.0</td>\n",
       "      <td>0.0</td>\n",
       "      <td>0.0</td>\n",
       "      <td>...</td>\n",
       "      <td>1.0</td>\n",
       "      <td>0.0</td>\n",
       "      <td>0.0</td>\n",
       "      <td>1.0</td>\n",
       "      <td>0.0</td>\n",
       "      <td>0.0</td>\n",
       "      <td>0.0</td>\n",
       "      <td>0.0</td>\n",
       "      <td>0.0</td>\n",
       "      <td>1.0</td>\n",
       "    </tr>\n",
       "    <tr>\n",
       "      <th>632</th>\n",
       "      <td>29.9290</td>\n",
       "      <td>4</td>\n",
       "      <td>1.0</td>\n",
       "      <td>0.0</td>\n",
       "      <td>0.0</td>\n",
       "      <td>0.0</td>\n",
       "      <td>1.0</td>\n",
       "      <td>1.0</td>\n",
       "      <td>0.0</td>\n",
       "      <td>0.0</td>\n",
       "      <td>...</td>\n",
       "      <td>0.0</td>\n",
       "      <td>0.0</td>\n",
       "      <td>0.0</td>\n",
       "      <td>0.0</td>\n",
       "      <td>0.0</td>\n",
       "      <td>1.0</td>\n",
       "      <td>1.0</td>\n",
       "      <td>0.0</td>\n",
       "      <td>0.0</td>\n",
       "      <td>0.0</td>\n",
       "    </tr>\n",
       "    <tr>\n",
       "      <th>818</th>\n",
       "      <td>3.6140</td>\n",
       "      <td>5</td>\n",
       "      <td>0.0</td>\n",
       "      <td>0.0</td>\n",
       "      <td>1.0</td>\n",
       "      <td>0.0</td>\n",
       "      <td>1.0</td>\n",
       "      <td>0.0</td>\n",
       "      <td>0.0</td>\n",
       "      <td>0.0</td>\n",
       "      <td>...</td>\n",
       "      <td>1.0</td>\n",
       "      <td>0.0</td>\n",
       "      <td>0.0</td>\n",
       "      <td>1.0</td>\n",
       "      <td>0.0</td>\n",
       "      <td>0.0</td>\n",
       "      <td>1.0</td>\n",
       "      <td>0.0</td>\n",
       "      <td>0.0</td>\n",
       "      <td>0.0</td>\n",
       "    </tr>\n",
       "    <tr>\n",
       "      <th>883</th>\n",
       "      <td>9.2750</td>\n",
       "      <td>3</td>\n",
       "      <td>0.0</td>\n",
       "      <td>1.0</td>\n",
       "      <td>0.0</td>\n",
       "      <td>0.0</td>\n",
       "      <td>1.0</td>\n",
       "      <td>0.0</td>\n",
       "      <td>0.0</td>\n",
       "      <td>0.0</td>\n",
       "      <td>...</td>\n",
       "      <td>1.0</td>\n",
       "      <td>0.0</td>\n",
       "      <td>0.0</td>\n",
       "      <td>1.0</td>\n",
       "      <td>0.0</td>\n",
       "      <td>0.0</td>\n",
       "      <td>1.0</td>\n",
       "      <td>0.0</td>\n",
       "      <td>0.0</td>\n",
       "      <td>0.0</td>\n",
       "    </tr>\n",
       "    <tr>\n",
       "      <th>666</th>\n",
       "      <td>11.7500</td>\n",
       "      <td>3</td>\n",
       "      <td>0.0</td>\n",
       "      <td>1.0</td>\n",
       "      <td>0.0</td>\n",
       "      <td>0.0</td>\n",
       "      <td>1.0</td>\n",
       "      <td>0.0</td>\n",
       "      <td>0.0</td>\n",
       "      <td>0.0</td>\n",
       "      <td>...</td>\n",
       "      <td>1.0</td>\n",
       "      <td>0.0</td>\n",
       "      <td>0.0</td>\n",
       "      <td>1.0</td>\n",
       "      <td>0.0</td>\n",
       "      <td>0.0</td>\n",
       "      <td>1.0</td>\n",
       "      <td>0.0</td>\n",
       "      <td>0.0</td>\n",
       "      <td>0.0</td>\n",
       "    </tr>\n",
       "    <tr>\n",
       "      <th>317</th>\n",
       "      <td>14.4250</td>\n",
       "      <td>6</td>\n",
       "      <td>0.0</td>\n",
       "      <td>1.0</td>\n",
       "      <td>0.0</td>\n",
       "      <td>0.0</td>\n",
       "      <td>1.0</td>\n",
       "      <td>0.0</td>\n",
       "      <td>0.0</td>\n",
       "      <td>0.0</td>\n",
       "      <td>...</td>\n",
       "      <td>1.0</td>\n",
       "      <td>0.0</td>\n",
       "      <td>0.0</td>\n",
       "      <td>0.0</td>\n",
       "      <td>0.0</td>\n",
       "      <td>1.0</td>\n",
       "      <td>1.0</td>\n",
       "      <td>0.0</td>\n",
       "      <td>0.0</td>\n",
       "      <td>0.0</td>\n",
       "    </tr>\n",
       "    <tr>\n",
       "      <th>587</th>\n",
       "      <td>69.5290</td>\n",
       "      <td>6</td>\n",
       "      <td>1.0</td>\n",
       "      <td>0.0</td>\n",
       "      <td>0.0</td>\n",
       "      <td>0.0</td>\n",
       "      <td>1.0</td>\n",
       "      <td>1.0</td>\n",
       "      <td>0.0</td>\n",
       "      <td>0.0</td>\n",
       "      <td>...</td>\n",
       "      <td>0.0</td>\n",
       "      <td>0.0</td>\n",
       "      <td>0.0</td>\n",
       "      <td>1.0</td>\n",
       "      <td>0.0</td>\n",
       "      <td>0.0</td>\n",
       "      <td>0.0</td>\n",
       "      <td>0.0</td>\n",
       "      <td>0.0</td>\n",
       "      <td>1.0</td>\n",
       "    </tr>\n",
       "    <tr>\n",
       "      <th>693</th>\n",
       "      <td>3.6140</td>\n",
       "      <td>3</td>\n",
       "      <td>0.0</td>\n",
       "      <td>0.0</td>\n",
       "      <td>1.0</td>\n",
       "      <td>0.0</td>\n",
       "      <td>1.0</td>\n",
       "      <td>0.0</td>\n",
       "      <td>0.0</td>\n",
       "      <td>0.0</td>\n",
       "      <td>...</td>\n",
       "      <td>0.0</td>\n",
       "      <td>0.0</td>\n",
       "      <td>0.0</td>\n",
       "      <td>1.0</td>\n",
       "      <td>0.0</td>\n",
       "      <td>0.0</td>\n",
       "      <td>1.0</td>\n",
       "      <td>0.0</td>\n",
       "      <td>0.0</td>\n",
       "      <td>0.0</td>\n",
       "    </tr>\n",
       "    <tr>\n",
       "      <th>538</th>\n",
       "      <td>14.4250</td>\n",
       "      <td>3</td>\n",
       "      <td>0.0</td>\n",
       "      <td>0.0</td>\n",
       "      <td>1.0</td>\n",
       "      <td>0.0</td>\n",
       "      <td>1.0</td>\n",
       "      <td>0.0</td>\n",
       "      <td>0.0</td>\n",
       "      <td>0.0</td>\n",
       "      <td>...</td>\n",
       "      <td>1.0</td>\n",
       "      <td>0.0</td>\n",
       "      <td>0.0</td>\n",
       "      <td>1.0</td>\n",
       "      <td>0.0</td>\n",
       "      <td>0.0</td>\n",
       "      <td>1.0</td>\n",
       "      <td>0.0</td>\n",
       "      <td>0.0</td>\n",
       "      <td>0.0</td>\n",
       "    </tr>\n",
       "    <tr>\n",
       "      <th>686</th>\n",
       "      <td>44.6040</td>\n",
       "      <td>2</td>\n",
       "      <td>0.0</td>\n",
       "      <td>0.0</td>\n",
       "      <td>1.0</td>\n",
       "      <td>0.0</td>\n",
       "      <td>1.0</td>\n",
       "      <td>0.0</td>\n",
       "      <td>0.0</td>\n",
       "      <td>0.0</td>\n",
       "      <td>...</td>\n",
       "      <td>1.0</td>\n",
       "      <td>0.0</td>\n",
       "      <td>0.0</td>\n",
       "      <td>1.0</td>\n",
       "      <td>0.0</td>\n",
       "      <td>0.0</td>\n",
       "      <td>0.0</td>\n",
       "      <td>0.0</td>\n",
       "      <td>1.0</td>\n",
       "      <td>0.0</td>\n",
       "    </tr>\n",
       "    <tr>\n",
       "      <th>230</th>\n",
       "      <td>297.7435</td>\n",
       "      <td>4</td>\n",
       "      <td>1.0</td>\n",
       "      <td>0.0</td>\n",
       "      <td>0.0</td>\n",
       "      <td>1.0</td>\n",
       "      <td>0.0</td>\n",
       "      <td>1.0</td>\n",
       "      <td>0.0</td>\n",
       "      <td>0.0</td>\n",
       "      <td>...</td>\n",
       "      <td>1.0</td>\n",
       "      <td>0.0</td>\n",
       "      <td>0.0</td>\n",
       "      <td>0.0</td>\n",
       "      <td>1.0</td>\n",
       "      <td>0.0</td>\n",
       "      <td>0.0</td>\n",
       "      <td>0.0</td>\n",
       "      <td>0.0</td>\n",
       "      <td>1.0</td>\n",
       "    </tr>\n",
       "  </tbody>\n",
       "</table>\n",
       "<p>45 rows × 23 columns</p>\n",
       "</div>"
      ],
      "text/plain": [
       "         Fare  Age group  Pclass_1  Pclass_2  Pclass_3  Sex_1  Sex_2  Deck_1  \\\n",
       "495   14.4250          3       0.0       0.0       1.0    0.0    1.0     0.0   \n",
       "648    7.4895          3       0.0       0.0       1.0    0.0    1.0     0.0   \n",
       "278   29.9290          1       0.0       0.0       1.0    0.0    1.0     0.0   \n",
       "31   297.7435          4       1.0       0.0       0.0    1.0    0.0     1.0   \n",
       "255   14.4250          3       0.0       0.0       1.0    1.0    0.0     0.0   \n",
       "298   29.9290          5       1.0       0.0       0.0    0.0    1.0     1.0   \n",
       "609  297.7435          4       1.0       0.0       0.0    1.0    0.0     1.0   \n",
       "318  297.7435          4       1.0       0.0       0.0    1.0    0.0     1.0   \n",
       "484  297.7435          3       1.0       0.0       0.0    0.0    1.0     1.0   \n",
       "367    3.6140          3       0.0       0.0       1.0    1.0    0.0     0.0   \n",
       "704    7.8230          3       0.0       0.0       1.0    0.0    1.0     0.0   \n",
       "346   11.7500          4       0.0       1.0       0.0    1.0    0.0     0.0   \n",
       "196    7.4895          3       0.0       0.0       1.0    0.0    1.0     0.0   \n",
       "535   25.2750          1       0.0       1.0       0.0    1.0    0.0     0.0   \n",
       "310   69.5290          3       1.0       0.0       0.0    1.0    0.0     1.0   \n",
       "14     7.8230          2       0.0       0.0       1.0    1.0    0.0     0.0   \n",
       "350    9.2750          3       0.0       0.0       1.0    0.0    1.0     0.0   \n",
       "145   44.6040          2       0.0       1.0       0.0    0.0    1.0     0.0   \n",
       "614    7.9730          4       0.0       0.0       1.0    0.0    1.0     0.0   \n",
       "803    9.2750          1       0.0       0.0       1.0    0.0    1.0     0.0   \n",
       "144   11.7500          2       0.0       1.0       0.0    0.0    1.0     0.0   \n",
       "708  297.7435          3       1.0       0.0       0.0    1.0    0.0     0.0   \n",
       "778    7.4895          3       0.0       0.0       1.0    0.0    1.0     0.0   \n",
       "270   29.9290          5       1.0       0.0       0.0    0.0    1.0     0.0   \n",
       "474    9.2750          3       0.0       0.0       1.0    1.0    0.0     0.0   \n",
       "319  297.7435          4       1.0       0.0       0.0    1.0    0.0     0.0   \n",
       "519    7.8230          4       0.0       0.0       1.0    0.0    1.0     0.0   \n",
       "141    7.4895          3       0.0       0.0       1.0    1.0    0.0     0.0   \n",
       "880   25.2750          3       0.0       1.0       0.0    1.0    0.0     0.0   \n",
       "642   29.9290          1       0.0       0.0       1.0    1.0    0.0     0.0   \n",
       "285    9.2750          4       0.0       0.0       1.0    0.0    1.0     0.0   \n",
       "458    9.2750          5       0.0       1.0       0.0    1.0    0.0     0.0   \n",
       "200    9.2750          3       0.0       0.0       1.0    0.0    1.0     0.0   \n",
       "55    44.6040          5       1.0       0.0       0.0    0.0    1.0     1.0   \n",
       "477    3.6140          3       0.0       0.0       1.0    0.0    1.0     0.0   \n",
       "632   29.9290          4       1.0       0.0       0.0    0.0    1.0     1.0   \n",
       "818    3.6140          5       0.0       0.0       1.0    0.0    1.0     0.0   \n",
       "883    9.2750          3       0.0       1.0       0.0    0.0    1.0     0.0   \n",
       "666   11.7500          3       0.0       1.0       0.0    0.0    1.0     0.0   \n",
       "317   14.4250          6       0.0       1.0       0.0    0.0    1.0     0.0   \n",
       "587   69.5290          6       1.0       0.0       0.0    0.0    1.0     1.0   \n",
       "693    3.6140          3       0.0       0.0       1.0    0.0    1.0     0.0   \n",
       "538   14.4250          3       0.0       0.0       1.0    0.0    1.0     0.0   \n",
       "686   44.6040          2       0.0       0.0       1.0    0.0    1.0     0.0   \n",
       "230  297.7435          4       1.0       0.0       0.0    1.0    0.0     1.0   \n",
       "\n",
       "     Deck_2  Deck_3  ...  Embarked_3  Title_1  Title_2  Title_3  Title_4  \\\n",
       "495     0.0     0.0  ...         0.0      0.0      0.0      1.0      0.0   \n",
       "648     0.0     0.0  ...         1.0      0.0      0.0      1.0      0.0   \n",
       "278     0.0     0.0  ...         0.0      1.0      0.0      0.0      0.0   \n",
       "31      0.0     0.0  ...         0.0      0.0      0.0      0.0      1.0   \n",
       "255     0.0     0.0  ...         0.0      0.0      0.0      0.0      1.0   \n",
       "298     0.0     0.0  ...         1.0      0.0      0.0      1.0      0.0   \n",
       "609     0.0     0.0  ...         1.0      0.0      1.0      0.0      0.0   \n",
       "318     0.0     0.0  ...         1.0      0.0      1.0      0.0      0.0   \n",
       "484     0.0     0.0  ...         0.0      0.0      0.0      1.0      0.0   \n",
       "367     0.0     0.0  ...         0.0      0.0      0.0      0.0      1.0   \n",
       "704     0.0     0.0  ...         1.0      0.0      0.0      1.0      0.0   \n",
       "346     0.0     0.0  ...         1.0      0.0      1.0      0.0      0.0   \n",
       "196     0.0     0.0  ...         0.0      0.0      0.0      1.0      0.0   \n",
       "535     0.0     0.0  ...         1.0      0.0      1.0      0.0      0.0   \n",
       "310     0.0     0.0  ...         0.0      0.0      1.0      0.0      0.0   \n",
       "14      0.0     0.0  ...         1.0      0.0      1.0      0.0      0.0   \n",
       "350     0.0     0.0  ...         1.0      0.0      0.0      1.0      0.0   \n",
       "145     0.0     0.0  ...         1.0      0.0      0.0      1.0      0.0   \n",
       "614     0.0     0.0  ...         1.0      0.0      0.0      1.0      0.0   \n",
       "803     0.0     0.0  ...         0.0      1.0      0.0      0.0      0.0   \n",
       "144     0.0     0.0  ...         1.0      0.0      0.0      1.0      0.0   \n",
       "708     0.0     0.0  ...         1.0      0.0      1.0      0.0      0.0   \n",
       "778     0.0     0.0  ...         0.0      0.0      0.0      1.0      0.0   \n",
       "270     0.0     0.0  ...         1.0      0.0      0.0      1.0      0.0   \n",
       "474     0.0     0.0  ...         1.0      0.0      1.0      0.0      0.0   \n",
       "319     1.0     0.0  ...         0.0      0.0      0.0      0.0      1.0   \n",
       "519     0.0     0.0  ...         1.0      0.0      0.0      1.0      0.0   \n",
       "141     0.0     0.0  ...         1.0      0.0      1.0      0.0      0.0   \n",
       "880     0.0     0.0  ...         1.0      0.0      0.0      0.0      1.0   \n",
       "642     0.0     0.0  ...         1.0      0.0      1.0      0.0      0.0   \n",
       "285     0.0     0.0  ...         0.0      0.0      0.0      1.0      0.0   \n",
       "458     0.0     0.0  ...         1.0      0.0      1.0      0.0      0.0   \n",
       "200     0.0     0.0  ...         1.0      0.0      0.0      1.0      0.0   \n",
       "55      0.0     0.0  ...         1.0      0.0      0.0      1.0      0.0   \n",
       "477     0.0     0.0  ...         1.0      0.0      0.0      1.0      0.0   \n",
       "632     0.0     0.0  ...         0.0      0.0      0.0      0.0      0.0   \n",
       "818     0.0     0.0  ...         1.0      0.0      0.0      1.0      0.0   \n",
       "883     0.0     0.0  ...         1.0      0.0      0.0      1.0      0.0   \n",
       "666     0.0     0.0  ...         1.0      0.0      0.0      1.0      0.0   \n",
       "317     0.0     0.0  ...         1.0      0.0      0.0      0.0      0.0   \n",
       "587     0.0     0.0  ...         0.0      0.0      0.0      1.0      0.0   \n",
       "693     0.0     0.0  ...         0.0      0.0      0.0      1.0      0.0   \n",
       "538     0.0     0.0  ...         1.0      0.0      0.0      1.0      0.0   \n",
       "686     0.0     0.0  ...         1.0      0.0      0.0      1.0      0.0   \n",
       "230     0.0     0.0  ...         1.0      0.0      0.0      0.0      1.0   \n",
       "\n",
       "     Title_5  Fam Size grouped_1  Fam Size grouped_2  Fam Size grouped_3  \\\n",
       "495      0.0                 1.0                 0.0                 0.0   \n",
       "648      0.0                 1.0                 0.0                 0.0   \n",
       "278      0.0                 0.0                 0.0                 1.0   \n",
       "31       0.0                 0.0                 0.0                 0.0   \n",
       "255      0.0                 0.0                 0.0                 0.0   \n",
       "298      0.0                 1.0                 0.0                 0.0   \n",
       "609      0.0                 1.0                 0.0                 0.0   \n",
       "318      0.0                 0.0                 0.0                 0.0   \n",
       "484      0.0                 0.0                 0.0                 0.0   \n",
       "367      0.0                 1.0                 0.0                 0.0   \n",
       "704      0.0                 0.0                 0.0                 0.0   \n",
       "346      0.0                 1.0                 0.0                 0.0   \n",
       "196      0.0                 1.0                 0.0                 0.0   \n",
       "535      0.0                 0.0                 0.0                 0.0   \n",
       "310      0.0                 1.0                 0.0                 0.0   \n",
       "14       0.0                 1.0                 0.0                 0.0   \n",
       "350      0.0                 1.0                 0.0                 0.0   \n",
       "145      0.0                 0.0                 0.0                 0.0   \n",
       "614      0.0                 1.0                 0.0                 0.0   \n",
       "803      0.0                 0.0                 0.0                 0.0   \n",
       "144      0.0                 1.0                 0.0                 0.0   \n",
       "708      0.0                 1.0                 0.0                 0.0   \n",
       "778      0.0                 1.0                 0.0                 0.0   \n",
       "270      0.0                 1.0                 0.0                 0.0   \n",
       "474      0.0                 1.0                 0.0                 0.0   \n",
       "319      0.0                 0.0                 0.0                 0.0   \n",
       "519      0.0                 1.0                 0.0                 0.0   \n",
       "141      0.0                 1.0                 0.0                 0.0   \n",
       "880      0.0                 0.0                 0.0                 0.0   \n",
       "642      0.0                 0.0                 0.0                 1.0   \n",
       "285      0.0                 1.0                 0.0                 0.0   \n",
       "458      0.0                 1.0                 0.0                 0.0   \n",
       "200      0.0                 1.0                 0.0                 0.0   \n",
       "55       0.0                 1.0                 0.0                 0.0   \n",
       "477      0.0                 0.0                 0.0                 0.0   \n",
       "632      1.0                 1.0                 0.0                 0.0   \n",
       "818      0.0                 1.0                 0.0                 0.0   \n",
       "883      0.0                 1.0                 0.0                 0.0   \n",
       "666      0.0                 1.0                 0.0                 0.0   \n",
       "317      1.0                 1.0                 0.0                 0.0   \n",
       "587      0.0                 0.0                 0.0                 0.0   \n",
       "693      0.0                 1.0                 0.0                 0.0   \n",
       "538      0.0                 1.0                 0.0                 0.0   \n",
       "686      0.0                 0.0                 0.0                 1.0   \n",
       "230      0.0                 0.0                 0.0                 0.0   \n",
       "\n",
       "     Fam Size grouped_4  \n",
       "495                 0.0  \n",
       "648                 0.0  \n",
       "278                 0.0  \n",
       "31                  1.0  \n",
       "255                 1.0  \n",
       "298                 0.0  \n",
       "609                 0.0  \n",
       "318                 1.0  \n",
       "484                 1.0  \n",
       "367                 0.0  \n",
       "704                 1.0  \n",
       "346                 0.0  \n",
       "196                 0.0  \n",
       "535                 1.0  \n",
       "310                 0.0  \n",
       "14                  0.0  \n",
       "350                 0.0  \n",
       "145                 1.0  \n",
       "614                 0.0  \n",
       "803                 1.0  \n",
       "144                 0.0  \n",
       "708                 0.0  \n",
       "778                 0.0  \n",
       "270                 0.0  \n",
       "474                 0.0  \n",
       "319                 1.0  \n",
       "519                 0.0  \n",
       "141                 0.0  \n",
       "880                 1.0  \n",
       "642                 0.0  \n",
       "285                 0.0  \n",
       "458                 0.0  \n",
       "200                 0.0  \n",
       "55                  0.0  \n",
       "477                 1.0  \n",
       "632                 0.0  \n",
       "818                 0.0  \n",
       "883                 0.0  \n",
       "666                 0.0  \n",
       "317                 0.0  \n",
       "587                 1.0  \n",
       "693                 0.0  \n",
       "538                 0.0  \n",
       "686                 0.0  \n",
       "230                 1.0  \n",
       "\n",
       "[45 rows x 23 columns]"
      ]
     },
     "execution_count": 355,
     "metadata": {},
     "output_type": "execute_result"
    }
   ],
   "source": [
    "pd.DataFrame(X_test)"
   ]
  },
  {
   "cell_type": "markdown",
   "id": "9b085c3a",
   "metadata": {
    "papermill": {
     "duration": 0.021063,
     "end_time": "2023-01-04T15:21:13.957371",
     "exception": false,
     "start_time": "2023-01-04T15:21:13.936308",
     "status": "completed"
    },
    "tags": []
   },
   "source": [
    "## 5 - Model\n",
    "\n",
    "* Creating a Random Forest Classifier\n",
    "* Get the best estimator via GridSearch\n",
    "* Re-train with the best estimator\n",
    "* Cross Validation\n",
    "* Feature Importance\n",
    "* Submission"
   ]
  },
  {
   "cell_type": "markdown",
   "id": "ef543a26",
   "metadata": {
    "papermill": {
     "duration": 0.020751,
     "end_time": "2023-01-04T15:21:13.999723",
     "exception": false,
     "start_time": "2023-01-04T15:21:13.978972",
     "status": "completed"
    },
    "tags": []
   },
   "source": [
    "## 5.1 Model \n",
    "\n",
    "The `StratifiedKfold` val paired with `N_estimators` and `max_depth` had majority of impact in bumping the `val_score` from 0.79 to 0.83"
   ]
  },
  {
   "cell_type": "code",
   "execution_count": 356,
   "id": "abf3324f",
   "metadata": {
    "papermill": {
     "duration": 0.031321,
     "end_time": "2023-01-04T15:21:14.052365",
     "exception": false,
     "start_time": "2023-01-04T15:21:14.021044",
     "status": "completed"
    },
    "tags": []
   },
   "outputs": [],
   "source": [
    "clf = RandomForestClassifier(n_estimators = 1170, \n",
    "                             oob_score = True,\n",
    "                             max_depth = 7, # makes the most difference  \n",
    "                             min_samples_split=6, \n",
    "                             min_samples_leaf=6,\n",
    "                             max_features='auto',\n",
    "                             random_state = seed_value, \n",
    "                             verbose = 1)"
   ]
  },
  {
   "cell_type": "markdown",
   "id": "1885ba83",
   "metadata": {
    "papermill": {
     "duration": 0.021056,
     "end_time": "2023-01-04T15:21:14.095651",
     "exception": false,
     "start_time": "2023-01-04T15:21:14.074595",
     "status": "completed"
    },
    "tags": []
   },
   "source": [
    "## 5.2 StratifiedKFold"
   ]
  },
  {
   "cell_type": "code",
   "execution_count": 357,
   "id": "120f4171-eceb-4fe8-9493-98ccc77c1fa3",
   "metadata": {},
   "outputs": [
    {
     "data": {
      "text/plain": [
       "array([[-0.39416841,  1.19897891, -0.56187865, ..., -0.1745012 ,\n",
       "        -0.2046263 , -0.70147237],\n",
       "       [-0.42769398, -0.30597088, -0.56187865, ..., -0.1745012 ,\n",
       "        -0.2046263 , -0.70147237],\n",
       "       [-0.45187979, -0.30597088, -0.56187865, ..., -0.1745012 ,\n",
       "        -0.2046263 , -0.70147237],\n",
       "       ...,\n",
       "       [-0.21096306,  0.44650402,  1.77974371, ..., -0.1745012 ,\n",
       "        -0.2046263 , -0.70147237],\n",
       "       [-0.28343246,  0.44650402, -0.56187865, ..., -0.1745012 ,\n",
       "        -0.2046263 ,  1.42557289],\n",
       "       [-0.21096306,  1.19897891, -0.56187865, ..., -0.1745012 ,\n",
       "        -0.2046263 ,  1.42557289]])"
      ]
     },
     "execution_count": 357,
     "metadata": {},
     "output_type": "execute_result"
    }
   ],
   "source": [
    "X_train"
   ]
  },
  {
   "cell_type": "code",
   "execution_count": 358,
   "id": "5881c7a9",
   "metadata": {
    "papermill": {
     "duration": 12.454593,
     "end_time": "2023-01-04T15:21:26.571913",
     "exception": false,
     "start_time": "2023-01-04T15:21:14.117320",
     "status": "completed"
    },
    "tags": []
   },
   "outputs": [
    {
     "name": "stdout",
     "output_type": "stream",
     "text": [
      "Fold 1\n",
      "\n"
     ]
    },
    {
     "name": "stderr",
     "output_type": "stream",
     "text": [
      "[Parallel(n_jobs=1)]: Using backend SequentialBackend with 1 concurrent workers.\n",
      "[Parallel(n_jobs=1)]: Done 1170 out of 1170 | elapsed:    1.0s finished\n",
      "[Parallel(n_jobs=1)]: Using backend SequentialBackend with 1 concurrent workers.\n",
      "[Parallel(n_jobs=1)]: Done 1170 out of 1170 | elapsed:    0.1s finished\n",
      "[Parallel(n_jobs=1)]: Using backend SequentialBackend with 1 concurrent workers.\n",
      "[Parallel(n_jobs=1)]: Done 1170 out of 1170 | elapsed:    0.0s finished\n",
      "[Parallel(n_jobs=1)]: Using backend SequentialBackend with 1 concurrent workers.\n",
      "[Parallel(n_jobs=1)]: Done 1170 out of 1170 | elapsed:    0.0s finished\n",
      "[Parallel(n_jobs=1)]: Using backend SequentialBackend with 1 concurrent workers.\n",
      "[Parallel(n_jobs=1)]: Done 1170 out of 1170 | elapsed:    0.0s finished\n"
     ]
    },
    {
     "name": "stdout",
     "output_type": "stream",
     "text": [
      "Fold 1 OOB Score: 0.8203703703703704\n",
      "\n",
      "Fold 2\n",
      "\n"
     ]
    },
    {
     "name": "stderr",
     "output_type": "stream",
     "text": [
      "[Parallel(n_jobs=1)]: Using backend SequentialBackend with 1 concurrent workers.\n",
      "[Parallel(n_jobs=1)]: Done 1170 out of 1170 | elapsed:    0.9s finished\n",
      "[Parallel(n_jobs=1)]: Using backend SequentialBackend with 1 concurrent workers.\n",
      "[Parallel(n_jobs=1)]: Done 1170 out of 1170 | elapsed:    0.1s finished\n",
      "[Parallel(n_jobs=1)]: Using backend SequentialBackend with 1 concurrent workers.\n",
      "[Parallel(n_jobs=1)]: Done 1170 out of 1170 | elapsed:    0.1s finished\n",
      "[Parallel(n_jobs=1)]: Using backend SequentialBackend with 1 concurrent workers.\n",
      "[Parallel(n_jobs=1)]: Done 1170 out of 1170 | elapsed:    0.0s finished\n",
      "[Parallel(n_jobs=1)]: Using backend SequentialBackend with 1 concurrent workers.\n",
      "[Parallel(n_jobs=1)]: Done 1170 out of 1170 | elapsed:    0.0s finished\n"
     ]
    },
    {
     "name": "stdout",
     "output_type": "stream",
     "text": [
      "Fold 2 OOB Score: 0.8170055452865065\n",
      "\n",
      "Fold 3\n",
      "\n"
     ]
    },
    {
     "name": "stderr",
     "output_type": "stream",
     "text": [
      "[Parallel(n_jobs=1)]: Using backend SequentialBackend with 1 concurrent workers.\n",
      "[Parallel(n_jobs=1)]: Done 1170 out of 1170 | elapsed:    1.0s finished\n",
      "[Parallel(n_jobs=1)]: Using backend SequentialBackend with 1 concurrent workers.\n",
      "[Parallel(n_jobs=1)]: Done 1170 out of 1170 | elapsed:    0.1s finished\n",
      "[Parallel(n_jobs=1)]: Using backend SequentialBackend with 1 concurrent workers.\n",
      "[Parallel(n_jobs=1)]: Done 1170 out of 1170 | elapsed:    0.0s finished\n",
      "[Parallel(n_jobs=1)]: Using backend SequentialBackend with 1 concurrent workers.\n",
      "[Parallel(n_jobs=1)]: Done 1170 out of 1170 | elapsed:    0.0s finished\n",
      "[Parallel(n_jobs=1)]: Using backend SequentialBackend with 1 concurrent workers.\n",
      "[Parallel(n_jobs=1)]: Done 1170 out of 1170 | elapsed:    0.0s finished\n"
     ]
    },
    {
     "name": "stdout",
     "output_type": "stream",
     "text": [
      "Fold 3 OOB Score: 0.8317929759704251\n",
      "\n",
      "Fold 4\n",
      "\n"
     ]
    },
    {
     "name": "stderr",
     "output_type": "stream",
     "text": [
      "[Parallel(n_jobs=1)]: Using backend SequentialBackend with 1 concurrent workers.\n",
      "[Parallel(n_jobs=1)]: Done 1170 out of 1170 | elapsed:    1.0s finished\n",
      "[Parallel(n_jobs=1)]: Using backend SequentialBackend with 1 concurrent workers.\n",
      "[Parallel(n_jobs=1)]: Done 1170 out of 1170 | elapsed:    0.1s finished\n",
      "[Parallel(n_jobs=1)]: Using backend SequentialBackend with 1 concurrent workers.\n",
      "[Parallel(n_jobs=1)]: Done 1170 out of 1170 | elapsed:    0.0s finished\n",
      "[Parallel(n_jobs=1)]: Using backend SequentialBackend with 1 concurrent workers.\n",
      "[Parallel(n_jobs=1)]: Done 1170 out of 1170 | elapsed:    0.0s finished\n",
      "[Parallel(n_jobs=1)]: Using backend SequentialBackend with 1 concurrent workers.\n",
      "[Parallel(n_jobs=1)]: Done 1170 out of 1170 | elapsed:    0.0s finished\n"
     ]
    },
    {
     "name": "stdout",
     "output_type": "stream",
     "text": [
      "Fold 4 OOB Score: 0.8170055452865065\n",
      "\n",
      "Fold 5\n",
      "\n"
     ]
    },
    {
     "name": "stderr",
     "output_type": "stream",
     "text": [
      "[Parallel(n_jobs=1)]: Using backend SequentialBackend with 1 concurrent workers.\n",
      "[Parallel(n_jobs=1)]: Done 1170 out of 1170 | elapsed:    0.9s finished\n",
      "[Parallel(n_jobs=1)]: Using backend SequentialBackend with 1 concurrent workers.\n",
      "[Parallel(n_jobs=1)]: Done 1170 out of 1170 | elapsed:    0.1s finished\n",
      "[Parallel(n_jobs=1)]: Using backend SequentialBackend with 1 concurrent workers.\n",
      "[Parallel(n_jobs=1)]: Done 1170 out of 1170 | elapsed:    0.0s finished\n",
      "[Parallel(n_jobs=1)]: Using backend SequentialBackend with 1 concurrent workers.\n",
      "[Parallel(n_jobs=1)]: Done 1170 out of 1170 | elapsed:    0.0s finished\n",
      "[Parallel(n_jobs=1)]: Using backend SequentialBackend with 1 concurrent workers.\n"
     ]
    },
    {
     "name": "stdout",
     "output_type": "stream",
     "text": [
      "Fold 5 OOB Score: 0.8280961182994455\n",
      "\n",
      "Average OOB Score: 0.8228541110426508\n"
     ]
    },
    {
     "name": "stderr",
     "output_type": "stream",
     "text": [
      "[Parallel(n_jobs=1)]: Done 1170 out of 1170 | elapsed:    0.0s finished\n"
     ]
    }
   ],
   "source": [
    "N = 5\n",
    "oob = 0\n",
    "probs = pd.DataFrame(np.zeros((len(X_test), N * 2)), columns=['Fold_{}_Prob_{}'.format(i, j) for i in range(1, N + 1) for j in range(2)])\n",
    "importances = pd.DataFrame(np.zeros((X_train.shape[1], N)), columns=['Fold_{}'.format(i) for i in range(1, N + 1)], index=train_columns)\n",
    "fprs, tprs, scores = [], [], []\n",
    "\n",
    "skf = StratifiedKFold(n_splits=N, random_state=20200226, shuffle=True)\n",
    "\n",
    "for fold, (trn_idx, val_idx) in enumerate(skf.split(X_train, y_train), 1):\n",
    "    print('Fold {}\\n'.format(fold))\n",
    "    \n",
    "    # Fitting the model\n",
    "    clf.fit(X_train[trn_idx], y_train[trn_idx])\n",
    "    \n",
    "    # Computing Train AUC score\n",
    "    trn_fpr, trn_tpr, trn_thresholds = roc_curve(y_train[trn_idx], clf.predict_proba(X_train[trn_idx])[:, 1])\n",
    "    trn_auc_score = auc(trn_fpr, trn_tpr)\n",
    "    \n",
    "    # Computing Validation AUC score\n",
    "    val_fpr, val_tpr, val_thresholds = roc_curve(y_train[val_idx], clf.predict_proba(X_train[val_idx])[:, 1])\n",
    "    val_auc_score = auc(val_fpr, val_tpr)  \n",
    "      \n",
    "    scores.append((trn_auc_score, val_auc_score))\n",
    "    fprs.append(val_fpr)\n",
    "    tprs.append(val_tpr)\n",
    "    \n",
    "    # X_test probabilities\n",
    "    probs.loc[:, 'Fold_{}_Prob_0'.format(fold)] = clf.predict_proba(X_test)[:, 0]\n",
    "    probs.loc[:, 'Fold_{}_Prob_1'.format(fold)] = clf.predict_proba(X_test)[:, 1]\n",
    "    importances.iloc[:, fold - 1] = clf.feature_importances_\n",
    "        \n",
    "    oob += clf.oob_score_ / N\n",
    "    print('Fold {} OOB Score: {}\\n'.format(fold, clf.oob_score_))   \n",
    "    \n",
    "print('Average OOB Score: {}'.format(oob))"
   ]
  },
  {
   "cell_type": "markdown",
   "id": "f37474d6",
   "metadata": {
    "papermill": {
     "duration": 0.022679,
     "end_time": "2023-01-04T15:21:26.618233",
     "exception": false,
     "start_time": "2023-01-04T15:21:26.595554",
     "status": "completed"
    },
    "tags": []
   },
   "source": [
    "## 5.3 Feature Importance"
   ]
  },
  {
   "cell_type": "code",
   "execution_count": 359,
   "id": "dfee79cf",
   "metadata": {
    "_kg_hide-input": true,
    "papermill": {
     "duration": 0.155239,
     "end_time": "2023-01-04T15:21:26.796316",
     "exception": false,
     "start_time": "2023-01-04T15:21:26.641077",
     "status": "completed"
    },
    "tags": []
   },
   "outputs": [
    {
     "name": "stdout",
     "output_type": "stream",
     "text": [
      "Feature Importance:\n"
     ]
    },
    {
     "data": {
      "text/html": [
       "<div>\n",
       "<style scoped>\n",
       "    .dataframe tbody tr th:only-of-type {\n",
       "        vertical-align: middle;\n",
       "    }\n",
       "\n",
       "    .dataframe tbody tr th {\n",
       "        vertical-align: top;\n",
       "    }\n",
       "\n",
       "    .dataframe thead th {\n",
       "        text-align: right;\n",
       "    }\n",
       "</style>\n",
       "<table border=\"1\" class=\"dataframe\">\n",
       "  <thead>\n",
       "    <tr style=\"text-align: right;\">\n",
       "      <th></th>\n",
       "      <th>importance</th>\n",
       "    </tr>\n",
       "    <tr>\n",
       "      <th>feature</th>\n",
       "      <th></th>\n",
       "    </tr>\n",
       "  </thead>\n",
       "  <tbody>\n",
       "    <tr>\n",
       "      <th>Title_3</th>\n",
       "      <td>0.172</td>\n",
       "    </tr>\n",
       "    <tr>\n",
       "      <th>Sex_1</th>\n",
       "      <td>0.168</td>\n",
       "    </tr>\n",
       "    <tr>\n",
       "      <th>Sex_2</th>\n",
       "      <td>0.168</td>\n",
       "    </tr>\n",
       "    <tr>\n",
       "      <th>Pclass_3</th>\n",
       "      <td>0.073</td>\n",
       "    </tr>\n",
       "    <tr>\n",
       "      <th>Fare</th>\n",
       "      <td>0.072</td>\n",
       "    </tr>\n",
       "    <tr>\n",
       "      <th>Title_4</th>\n",
       "      <td>0.050</td>\n",
       "    </tr>\n",
       "    <tr>\n",
       "      <th>Age group</th>\n",
       "      <td>0.043</td>\n",
       "    </tr>\n",
       "    <tr>\n",
       "      <th>Deck_4</th>\n",
       "      <td>0.040</td>\n",
       "    </tr>\n",
       "    <tr>\n",
       "      <th>Title_2</th>\n",
       "      <td>0.037</td>\n",
       "    </tr>\n",
       "    <tr>\n",
       "      <th>Pclass_1</th>\n",
       "      <td>0.027</td>\n",
       "    </tr>\n",
       "    <tr>\n",
       "      <th>Fam Size grouped_4</th>\n",
       "      <td>0.026</td>\n",
       "    </tr>\n",
       "    <tr>\n",
       "      <th>Embarked_3</th>\n",
       "      <td>0.018</td>\n",
       "    </tr>\n",
       "    <tr>\n",
       "      <th>Pclass_2</th>\n",
       "      <td>0.018</td>\n",
       "    </tr>\n",
       "    <tr>\n",
       "      <th>Fam Size grouped_1</th>\n",
       "      <td>0.018</td>\n",
       "    </tr>\n",
       "    <tr>\n",
       "      <th>Title_1</th>\n",
       "      <td>0.017</td>\n",
       "    </tr>\n",
       "    <tr>\n",
       "      <th>Fam Size grouped_3</th>\n",
       "      <td>0.011</td>\n",
       "    </tr>\n",
       "    <tr>\n",
       "      <th>Embarked_1</th>\n",
       "      <td>0.009</td>\n",
       "    </tr>\n",
       "    <tr>\n",
       "      <th>Embarked_2</th>\n",
       "      <td>0.008</td>\n",
       "    </tr>\n",
       "    <tr>\n",
       "      <th>Deck_1</th>\n",
       "      <td>0.008</td>\n",
       "    </tr>\n",
       "    <tr>\n",
       "      <th>Deck_2</th>\n",
       "      <td>0.007</td>\n",
       "    </tr>\n",
       "    <tr>\n",
       "      <th>Fam Size grouped_2</th>\n",
       "      <td>0.007</td>\n",
       "    </tr>\n",
       "    <tr>\n",
       "      <th>Title_5</th>\n",
       "      <td>0.004</td>\n",
       "    </tr>\n",
       "    <tr>\n",
       "      <th>Deck_3</th>\n",
       "      <td>0.000</td>\n",
       "    </tr>\n",
       "  </tbody>\n",
       "</table>\n",
       "</div>"
      ],
      "text/plain": [
       "                    importance\n",
       "feature                       \n",
       "Title_3                  0.172\n",
       "Sex_1                    0.168\n",
       "Sex_2                    0.168\n",
       "Pclass_3                 0.073\n",
       "Fare                     0.072\n",
       "Title_4                  0.050\n",
       "Age group                0.043\n",
       "Deck_4                   0.040\n",
       "Title_2                  0.037\n",
       "Pclass_1                 0.027\n",
       "Fam Size grouped_4       0.026\n",
       "Embarked_3               0.018\n",
       "Pclass_2                 0.018\n",
       "Fam Size grouped_1       0.018\n",
       "Title_1                  0.017\n",
       "Fam Size grouped_3       0.011\n",
       "Embarked_1               0.009\n",
       "Embarked_2               0.008\n",
       "Deck_1                   0.008\n",
       "Deck_2                   0.007\n",
       "Fam Size grouped_2       0.007\n",
       "Title_5                  0.004\n",
       "Deck_3                   0.000"
      ]
     },
     "execution_count": 359,
     "metadata": {},
     "output_type": "execute_result"
    }
   ],
   "source": [
    "importances = pd.DataFrame({'feature':train_columns,'importance':np.round(clf.feature_importances_,3)})\n",
    "importances = importances.sort_values('importance',ascending=False).set_index('feature')\n",
    "\n",
    "print('Feature Importance:')\n",
    "importances"
   ]
  },
  {
   "cell_type": "code",
   "execution_count": 360,
   "id": "52ef5544",
   "metadata": {
    "_kg_hide-input": true,
    "papermill": {
     "duration": 0.394562,
     "end_time": "2023-01-04T15:21:27.215209",
     "exception": false,
     "start_time": "2023-01-04T15:21:26.820647",
     "status": "completed"
    },
    "tags": []
   },
   "outputs": [
    {
     "data": {
      "text/plain": [
       "<AxesSubplot:xlabel='feature'>"
      ]
     },
     "execution_count": 360,
     "metadata": {},
     "output_type": "execute_result"
    },
    {
     "data": {
      "image/png": "[encoded data removed]",
      "text/plain": [
       "<Figure size 432x288 with 1 Axes>"
      ]
     },
     "metadata": {
      "needs_background": "light"
     },
     "output_type": "display_data"
    }
   ],
   "source": [
    "importances.plot.bar()"
   ]
  },
  {
   "cell_type": "markdown",
   "id": "c1d0c9cb",
   "metadata": {
    "papermill": {
     "duration": 0.023696,
     "end_time": "2023-01-04T15:21:27.262649",
     "exception": false,
     "start_time": "2023-01-04T15:21:27.238953",
     "status": "completed"
    },
    "tags": []
   },
   "source": [
    "## 5.4 Evaluation"
   ]
  },
  {
   "cell_type": "code",
   "execution_count": 361,
   "id": "983d5c31",
   "metadata": {
    "papermill": {
     "duration": 0.189929,
     "end_time": "2023-01-04T15:21:27.476238",
     "exception": false,
     "start_time": "2023-01-04T15:21:27.286309",
     "status": "completed"
    },
    "tags": []
   },
   "outputs": [
    {
     "name": "stderr",
     "output_type": "stream",
     "text": [
      "[Parallel(n_jobs=1)]: Using backend SequentialBackend with 1 concurrent workers.\n",
      "[Parallel(n_jobs=1)]: Done 1170 out of 1170 | elapsed:    0.0s finished\n"
     ]
    }
   ],
   "source": [
    "predictions = clf.predict(X_test)"
   ]
  },
  {
   "cell_type": "code",
   "execution_count": 364,
   "id": "76a01754",
   "metadata": {
    "papermill": {
     "duration": 0.039043,
     "end_time": "2023-01-04T15:21:27.586754",
     "exception": false,
     "start_time": "2023-01-04T15:21:27.547711",
     "status": "completed"
    },
    "tags": []
   },
   "outputs": [
    {
     "name": "stdout",
     "output_type": "stream",
     "text": [
      "Classification Report:\n",
      "\n",
      "              precision    recall  f1-score   support\n",
      "\n",
      "           0       0.56      1.00      0.71        25\n",
      "           1       0.00      0.00      0.00        20\n",
      "\n",
      "    accuracy                           0.56        45\n",
      "   macro avg       0.28      0.50      0.36        45\n",
      "weighted avg       0.31      0.56      0.40        45\n",
      "\n"
     ]
    }
   ],
   "source": [
    "from sklearn.metrics import classification_report, confusion_matrix, ConfusionMatrixDisplay\n",
    "\n",
    "print('Classification Report:')\n",
    "print()\n",
    "print(classification_report(y_test, predictions))"
   ]
  },
  {
   "cell_type": "code",
   "execution_count": null,
   "id": "a1882848-d5e4-4cb1-9bb0-9b80861cbd9b",
   "metadata": {},
   "outputs": [],
   "source": []
  },
  {
   "cell_type": "code",
   "execution_count": 363,
   "id": "d9e0d6e6-f1d7-422e-801d-1e9dc76f4f98",
   "metadata": {},
   "outputs": [
    {
     "data": {
      "image/png": "[encoded data removed]",
      "text/plain": [
       "<Figure size 432x288 with 2 Axes>"
      ]
     },
     "metadata": {
      "needs_background": "light"
     },
     "output_type": "display_data"
    }
   ],
   "source": [
    "import seaborn as sns\n",
    "from sklearn.metrics import confusion_matrix\n",
    "\n",
    "cm = confusion_matrix(y_test, predictions)\n",
    "f = sns.heatmap(cm, annot=True, fmt='d')"
   ]
  },
  {
   "cell_type": "code",
   "execution_count": null,
   "id": "9c10f1c5",
   "metadata": {
    "papermill": {
     "duration": 0.038891,
     "end_time": "2023-01-04T15:21:27.869847",
     "exception": false,
     "start_time": "2023-01-04T15:21:27.830956",
     "status": "completed"
    },
    "tags": []
   },
   "outputs": [],
   "source": []
  },
  {
   "cell_type": "code",
   "execution_count": 295,
   "id": "9e8b7955-10d4-44ed-b480-febb8e283f61",
   "metadata": {},
   "outputs": [],
   "source": [
    "import pickle\n",
    "\n",
    "Pkl_Filename = \"random_forest.pkl\"  \n",
    "\n",
    "with open(Pkl_Filename, 'wb') as file:  \n",
    "    pickle.dump(clf, file)"
   ]
  },
  {
   "cell_type": "code",
   "execution_count": 296,
   "id": "c4da2fac-d84a-4685-9d7d-e38cd834b19c",
   "metadata": {},
   "outputs": [],
   "source": [
    "# Load the Model back from file\n",
    "with open(Pkl_Filename, 'rb') as file:  \n",
    "    rf_tuned_loaded = pickle.load(file)"
   ]
  },
  {
   "cell_type": "code",
   "execution_count": 297,
   "id": "601c7fb9-7747-471e-9ef9-40452c05bb36",
   "metadata": {},
   "outputs": [
    {
     "data": {
      "text/plain": [
       "RandomForestClassifier(max_depth=7, min_samples_leaf=6, min_samples_split=6,\n",
       "                       n_estimators=1170, oob_score=True, random_state=42,\n",
       "                       verbose=1)"
      ]
     },
     "execution_count": 297,
     "metadata": {},
     "output_type": "execute_result"
    }
   ],
   "source": [
    "rf_tuned_loaded"
   ]
  },
  {
   "cell_type": "code",
   "execution_count": null,
   "id": "b27e96b5-5b11-44b9-a4d0-4b8de65c5fd6",
   "metadata": {},
   "outputs": [],
   "source": []
  },
  {
   "cell_type": "code",
   "execution_count": null,
   "id": "90ff70c6-5174-4837-b34f-4ef403588608",
   "metadata": {},
   "outputs": [],
   "source": []
  }
 ],
 "metadata": {
  "kernelspec": {
   "display_name": "Python 3 (ipykernel)",
   "language": "python",
   "name": "python3"
  },
  "language_info": {
   "codemirror_mode": {
    "name": "ipython",
    "version": 3
   },
   "file_extension": ".py",
   "mimetype": "text/x-python",
   "name": "python",
   "nbconvert_exporter": "python",
   "pygments_lexer": "ipython3",
   "version": "3.9.7"
  },
  "papermill": {
   "default_parameters": {},
   "duration": 39.054968,
   "end_time": "2023-01-04T15:21:31.054959",
   "environment_variables": {},
   "exception": null,
   "input_path": "__notebook__.ipynb",
   "output_path": "__notebook__.ipynb",
   "parameters": {},
   "start_time": "2023-01-04T15:20:51.999991",
   "version": "2.3.4"
  }
 },
 "nbformat": 4,
 "nbformat_minor": 5
}
